{
  "nbformat": 4,
  "nbformat_minor": 0,
  "metadata": {
    "colab": {
      "provenance": [],
      "authorship_tag": "ABX9TyO+oU4Y5aKFzISwmtWgcJ3f",
      "include_colab_link": true
    },
    "kernelspec": {
      "name": "python3",
      "display_name": "Python 3"
    },
    "language_info": {
      "name": "python"
    }
  },
  "cells": [
    {
      "cell_type": "markdown",
      "metadata": {
        "id": "view-in-github",
        "colab_type": "text"
      },
      "source": [
        "<a href=\"https://colab.research.google.com/github/Haris-09/Python-Programming/blob/main/classes.ipynb\" target=\"_parent\"><img src=\"https://colab.research.google.com/assets/colab-badge.svg\" alt=\"Open In Colab\"/></a>"
      ]
    },
    {
      "cell_type": "code",
      "execution_count": 10,
      "metadata": {
        "colab": {
          "base_uri": "https://localhost:8080/"
        },
        "id": "xRwJweW9rmQb",
        "outputId": "c572b2a8-2407-4e9a-e30d-33f9b5354a77"
      },
      "outputs": [
        {
          "output_type": "stream",
          "name": "stdout",
          "text": [
            "This is accelerate function with engine value:  1000cc\n"
          ]
        }
      ],
      "source": [
        "class Car:\n",
        "  color = 'green'     # class attribute\n",
        "\n",
        "  def __init__(self, make='Toyota', model='Corolla', engine='1000cc'):\n",
        "    self.make = make  # instance attribute\n",
        "    self.model = model  # instance attribute\n",
        "    self.engine = engine  # instance attribute\n",
        "\n",
        "  def accelerate(self):\n",
        "    print(\"This is accelerate function with engine value: \", self.engine)\n",
        "\n",
        "  def display(self):\n",
        "    print(\"Car description:\")\n",
        "    print(\"Make: \", self.make)\n",
        "    print(\"Model: \", self.model)\n",
        "    print(\"Engine: \", self.engine)\n",
        "\n",
        "obj1 = Car('Suzuki', 'Swift', '1000cc')\n",
        "obj2 = Car()\n",
        "obj1.accelerate()"
      ]
    },
    {
      "cell_type": "code",
      "source": [
        "obj1.color = 'blue'"
      ],
      "metadata": {
        "id": "3TtJ48TRw1Pb"
      },
      "execution_count": 11,
      "outputs": []
    },
    {
      "cell_type": "code",
      "source": [
        "obj1.color"
      ],
      "metadata": {
        "colab": {
          "base_uri": "https://localhost:8080/",
          "height": 35
        },
        "id": "_LoRignf4i9F",
        "outputId": "487adf6d-72df-47f1-c7bd-c51aea78c75c"
      },
      "execution_count": 12,
      "outputs": [
        {
          "output_type": "execute_result",
          "data": {
            "text/plain": [
              "'blue'"
            ],
            "application/vnd.google.colaboratory.intrinsic+json": {
              "type": "string"
            }
          },
          "metadata": {},
          "execution_count": 12
        }
      ]
    },
    {
      "cell_type": "code",
      "source": [
        "obj2.color"
      ],
      "metadata": {
        "colab": {
          "base_uri": "https://localhost:8080/",
          "height": 35
        },
        "id": "Mtaf3cIh4oKi",
        "outputId": "3269cd69-dc19-4321-ab72-e842ed002665"
      },
      "execution_count": 13,
      "outputs": [
        {
          "output_type": "execute_result",
          "data": {
            "text/plain": [
              "'green'"
            ],
            "application/vnd.google.colaboratory.intrinsic+json": {
              "type": "string"
            }
          },
          "metadata": {},
          "execution_count": 13
        }
      ]
    },
    {
      "cell_type": "code",
      "source": [
        "obj1.display()\n",
        "obj2.display()"
      ],
      "metadata": {
        "colab": {
          "base_uri": "https://localhost:8080/"
        },
        "id": "w0ndPmiH5Gjj",
        "outputId": "f579b9b6-4cb5-4697-851c-dd5f85a24231"
      },
      "execution_count": 14,
      "outputs": [
        {
          "output_type": "stream",
          "name": "stdout",
          "text": [
            "Car description:\n",
            "Make:  Suzuki\n",
            "Model:  Swift\n",
            "Engine:  1000cc\n",
            "Car description:\n",
            "Make:  Toyota\n",
            "Model:  Corolla\n",
            "Engine:  1000cc\n"
          ]
        }
      ]
    },
    {
      "cell_type": "code",
      "source": [],
      "metadata": {
        "id": "I8UttPgi7oRT"
      },
      "execution_count": null,
      "outputs": []
    }
  ]
}