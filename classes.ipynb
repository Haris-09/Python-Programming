{
  "nbformat": 4,
  "nbformat_minor": 0,
  "metadata": {
    "colab": {
      "provenance": [],
      "authorship_tag": "ABX9TyNWBHQIvOsJt4U1K5L4jl2v",
      "include_colab_link": true
    },
    "kernelspec": {
      "name": "python3",
      "display_name": "Python 3"
    },
    "language_info": {
      "name": "python"
    }
  },
  "cells": [
    {
      "cell_type": "markdown",
      "metadata": {
        "id": "view-in-github",
        "colab_type": "text"
      },
      "source": [
        "<a href=\"https://colab.research.google.com/github/Haris-09/Python-Programming/blob/main/classes.ipynb\" target=\"_parent\"><img src=\"https://colab.research.google.com/assets/colab-badge.svg\" alt=\"Open In Colab\"/></a>"
      ]
    },
    {
      "cell_type": "code",
      "execution_count": 1,
      "metadata": {
        "colab": {
          "base_uri": "https://localhost:8080/"
        },
        "id": "xRwJweW9rmQb",
        "outputId": "677d53cc-1824-4d41-da34-7e89a38999ec"
      },
      "outputs": [
        {
          "output_type": "stream",
          "name": "stdout",
          "text": [
            "This is accelerate function with engine value:  100cc\n"
          ]
        }
      ],
      "source": [
        "class car1:\n",
        "  color = 'green'     # class attribute\n",
        "\n",
        "  def __init__(self, m1, m2, m3):\n",
        "    self.model1 = m1    # instance attribute\n",
        "    self.engine1 = m2  # instance attribute\n",
        "    self.type1 = m3    # instance attribute\n",
        "\n",
        "  def accelerate1(self):\n",
        "    print(\"This is accelerate function with engine value: \", self.engine1)\n",
        "\n",
        "obj1 = car1('xyz', '100cc', 'abc')\n",
        "obj1.accelerate1()"
      ]
    },
    {
      "cell_type": "code",
      "source": [],
      "metadata": {
        "id": "3TtJ48TRw1Pb"
      },
      "execution_count": null,
      "outputs": []
    }
  ]
}