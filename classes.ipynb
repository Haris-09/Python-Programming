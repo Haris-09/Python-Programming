{
  "nbformat": 4,
  "nbformat_minor": 0,
  "metadata": {
    "colab": {
      "provenance": [],
      "authorship_tag": "ABX9TyOyZjGzAZaxLQIK/hZ+yYjC",
      "include_colab_link": true
    },
    "kernelspec": {
      "name": "python3",
      "display_name": "Python 3"
    },
    "language_info": {
      "name": "python"
    }
  },
  "cells": [
    {
      "cell_type": "markdown",
      "metadata": {
        "id": "view-in-github",
        "colab_type": "text"
      },
      "source": [
        "<a href=\"https://colab.research.google.com/github/Haris-09/Python-Programming/blob/main/classes.ipynb\" target=\"_parent\"><img src=\"https://colab.research.google.com/assets/colab-badge.svg\" alt=\"Open In Colab\"/></a>"
      ]
    },
    {
      "cell_type": "code",
      "execution_count": null,
      "metadata": {
        "colab": {
          "base_uri": "https://localhost:8080/"
        },
        "id": "xRwJweW9rmQb",
        "outputId": "c572b2a8-2407-4e9a-e30d-33f9b5354a77"
      },
      "outputs": [
        {
          "output_type": "stream",
          "name": "stdout",
          "text": [
            "This is accelerate function with engine value:  1000cc\n"
          ]
        }
      ],
      "source": [
        "class Car:\n",
        "  color = 'green'     # class attribute\n",
        "\n",
        "  def __init__(self, make='Toyota', model='Corolla', engine='1000cc'):\n",
        "    self.make = make  # instance attribute\n",
        "    self.model = model  # instance attribute\n",
        "    self.engine = engine  # instance attribute\n",
        "\n",
        "  def accelerate(self):\n",
        "    print(\"This is accelerate function with engine value: \", self.engine)\n",
        "\n",
        "  def display(self):\n",
        "    print(\"Car description:\")\n",
        "    print(\"Make: \", self.make)\n",
        "    print(\"Model: \", self.model)\n",
        "    print(\"Engine: \", self.engine)\n",
        "\n",
        "obj1 = Car('Suzuki', 'Swift', '1000cc')\n",
        "obj2 = Car()\n",
        "obj1.accelerate()"
      ]
    },
    {
      "cell_type": "code",
      "source": [
        "obj1.color = 'blue'"
      ],
      "metadata": {
        "id": "3TtJ48TRw1Pb"
      },
      "execution_count": null,
      "outputs": []
    },
    {
      "cell_type": "code",
      "source": [
        "obj1.color"
      ],
      "metadata": {
        "colab": {
          "base_uri": "https://localhost:8080/",
          "height": 35
        },
        "id": "_LoRignf4i9F",
        "outputId": "487adf6d-72df-47f1-c7bd-c51aea78c75c"
      },
      "execution_count": null,
      "outputs": [
        {
          "output_type": "execute_result",
          "data": {
            "text/plain": [
              "'blue'"
            ],
            "application/vnd.google.colaboratory.intrinsic+json": {
              "type": "string"
            }
          },
          "metadata": {},
          "execution_count": 12
        }
      ]
    },
    {
      "cell_type": "code",
      "source": [
        "obj2.color"
      ],
      "metadata": {
        "colab": {
          "base_uri": "https://localhost:8080/",
          "height": 35
        },
        "id": "Mtaf3cIh4oKi",
        "outputId": "3269cd69-dc19-4321-ab72-e842ed002665"
      },
      "execution_count": null,
      "outputs": [
        {
          "output_type": "execute_result",
          "data": {
            "text/plain": [
              "'green'"
            ],
            "application/vnd.google.colaboratory.intrinsic+json": {
              "type": "string"
            }
          },
          "metadata": {},
          "execution_count": 13
        }
      ]
    },
    {
      "cell_type": "code",
      "source": [
        "obj1.display()\n",
        "obj2.display()"
      ],
      "metadata": {
        "colab": {
          "base_uri": "https://localhost:8080/"
        },
        "id": "w0ndPmiH5Gjj",
        "outputId": "f579b9b6-4cb5-4697-851c-dd5f85a24231"
      },
      "execution_count": null,
      "outputs": [
        {
          "output_type": "stream",
          "name": "stdout",
          "text": [
            "Car description:\n",
            "Make:  Suzuki\n",
            "Model:  Swift\n",
            "Engine:  1000cc\n",
            "Car description:\n",
            "Make:  Toyota\n",
            "Model:  Corolla\n",
            "Engine:  1000cc\n"
          ]
        }
      ]
    },
    {
      "cell_type": "code",
      "source": [
        "class Animal:\n",
        "  def __init__(self):\n",
        "    self.type1 = \"herbivoures\"\n",
        "    self.__type2 = \"herbivoures\"\n",
        "\n",
        "  def get_type2(self):\n",
        "    return self.__type2\n",
        "\n",
        "obj1 = Animal()\n",
        "print(obj1.type1)\n",
        "print(obj1.get_type2())"
      ],
      "metadata": {
        "id": "I8UttPgi7oRT",
        "colab": {
          "base_uri": "https://localhost:8080/"
        },
        "outputId": "07a9d363-1fa5-4160-cee1-763c2917391f"
      },
      "execution_count": 7,
      "outputs": [
        {
          "output_type": "stream",
          "name": "stdout",
          "text": [
            "herbivoures\n",
            "herbivoures\n"
          ]
        }
      ]
    },
    {
      "cell_type": "code",
      "source": [
        "class student:\n",
        "  def __init__(self, name1='abc', age1=20, mark1=40):\n",
        "    self.name=name1\n",
        "    self.age=age1\n",
        "    self.marks=mark1\n",
        "  def display_students(self):\n",
        "    print(\"Student data: \", self.name)\n",
        "    print(\"Student data: \", self.age)\n",
        "    print(\"Student data: \", self.marks)\n",
        "  def __del__(self):\n",
        "    print(\"object deleted\")\n",
        "\n",
        "s1 = student('ali', 34, 89)\n",
        "s1.display_students()\n",
        "del s1"
      ],
      "metadata": {
        "colab": {
          "base_uri": "https://localhost:8080/"
        },
        "id": "M-JdlUxOXol9",
        "outputId": "4bc08ce3-fb35-4d7f-da6c-4eaac7c7a1a8"
      },
      "execution_count": 11,
      "outputs": [
        {
          "output_type": "stream",
          "name": "stdout",
          "text": [
            "Student data:  ali\n",
            "Student data:  34\n",
            "Student data:  89\n",
            "object deleted\n"
          ]
        }
      ]
    },
    {
      "cell_type": "code",
      "source": [
        "class Car:\n",
        "  # Attributes\n",
        "  color=\"\"\n",
        "  make=\"\"\n",
        "  model=\"\"\n",
        "\n",
        "  # Method to start the car\n",
        "  def start(self):\n",
        "    print(f\"The {self.make} {self.model} is starting.\")\n",
        "\n",
        "  # Method to stop the car\n",
        "  def stop(self):\n",
        "    print(f\"The {self.make} {self.model} is stopping.\")\n",
        "\n",
        "# Crating an object (instance) of the Car Class\n",
        "my_car = Car()\n",
        "\n",
        "# Setting attributes\n",
        "my_car.color = \"Red\"\n",
        "my_car.make = \"Toyota\"\n",
        "my_car.model = \"Camry\"\n",
        "\n",
        "# Calling methods\n",
        "my_car.start()\n",
        "my_car.stop()\n",
        "\n",
        "Car.color = \"Blue\"\n",
        "print(Car.color)\n",
        "Car.start(my_car)"
      ],
      "metadata": {
        "colab": {
          "base_uri": "https://localhost:8080/"
        },
        "id": "AJaYv5XOh5d8",
        "outputId": "92dad587-db19-4058-a15a-755bf692a4a5"
      },
      "execution_count": 15,
      "outputs": [
        {
          "output_type": "stream",
          "name": "stdout",
          "text": [
            "The Toyota Camry is starting.\n",
            "The Toyota Camry is stopping.\n",
            "Blue\n",
            "The Toyota Camry is starting.\n"
          ]
        }
      ]
    },
    {
      "cell_type": "code",
      "source": [
        "# Objective: You need to create a Library class that will manage a collection of books.\n",
        "# This class should have an attribute called books, which will be a list containing the titles of the books available in the library.\n",
        "\n",
        "# The class should include methods to add a new book to the collection, remove a book from the collection if it exists, and display all the books currently available.\n",
        "\n",
        "# After defining the class, create an instance of the library to manage a collection of books.\n",
        "\n",
        "class Library:\n",
        "  def __init__(self):\n",
        "    self.books = []\n",
        "\n",
        "  def add_book(self, book_title):\n",
        "    \"\"\"Adds a book title to the library's collection.\"\"\"\n",
        "    self.books.append(book_title)\n",
        "    print(f\"'{book_title}' has been added to the library.\")\n",
        "\n",
        "  def remove_book(self, book_title):\n",
        "    \"\"\"Removes a book title from the library's collection if it exists.\"\"\"\n",
        "    if book_title in self.books:\n",
        "      self.books.remove(book_title)\n",
        "      print(f\"'{book_title}' has been removed from the library.\")\n",
        "    else:\n",
        "      print(f\"'{book_title}' is not in the library's collection.\")\n",
        "\n",
        "  def display_books(self):\n",
        "    \"\"\"Displays all the book titles currently in the library.\"\"\"\n",
        "    if self.books:\n",
        "      print(\"Books in the library:\")\n",
        "      for book in self.books:\n",
        "        print(f\"- {book}\")\n",
        "    else:\n",
        "      print(\"The library is currently empty.\")\n",
        "\n",
        "# Create an instance of the Library\n",
        "my_library = Library()\n",
        "\n",
        "# Add some books\n",
        "my_library.add_book(\"Python Programming\")\n",
        "my_library.add_book(\"Data Analytics\")\n",
        "my_library.add_book(\"Machine Learning\")\n",
        "\n",
        "# Display the books\n",
        "my_library.display_books()\n",
        "\n",
        "# Remove a book\n",
        "my_library.remove_book(\"Data Analytics\")\n",
        "my_library.remove_book(\"Deep Learning\") # Trying to remove a book that doesn't exist\n",
        "\n",
        "# Display the books again\n",
        "my_library.display_books()"
      ],
      "metadata": {
        "colab": {
          "base_uri": "https://localhost:8080/"
        },
        "id": "BjYEzLVWdrDU",
        "outputId": "ffdc7ef8-e7c5-42f3-88af-4abab8657c59"
      },
      "execution_count": 16,
      "outputs": [
        {
          "output_type": "stream",
          "name": "stdout",
          "text": [
            "'Python Programming' has been added to the library.\n",
            "'Data Analytics' has been added to the library.\n",
            "'Machine Learning' has been added to the library.\n",
            "Books in the library:\n",
            "- Python Programming\n",
            "- Data Analytics\n",
            "- Machine Learning\n",
            "'Data Analytics' has been removed from the library.\n",
            "'Deep Learning' is not in the library's collection.\n",
            "Books in the library:\n",
            "- Python Programming\n",
            "- Machine Learning\n"
          ]
        }
      ]
    },
    {
      "cell_type": "code",
      "source": [
        "class human:\n",
        "  def __init__(self, name1, age1, gender1, nationality1):\n",
        "    self.name = name1\n",
        "    self.age = age1\n",
        "    self.gender = gender1\n",
        "    self.__nationality = nationality1\n",
        "\n",
        "  def display_human(self):\n",
        "    print(\"Name: \", self.name)\n",
        "    print(\"Age: \", self.age)\n",
        "    print(\"Gender: \", self.gender)\n",
        "    print(\"Nationality: \", self.__nationality)\n",
        "\n",
        "class student(human):\n",
        "  def __init__(self, name, age, gender, nationality, mark):\n",
        "    super().__init__(name, age, gender, nationality)\n",
        "    self.marks = mark\n",
        "\n",
        "  def display_student(self):\n",
        "    print(\"Name: \", self.name)\n",
        "    print(\"Age: \", self.age)\n",
        "    print(\"Marks: \", self.marks)\n",
        "\n",
        "  def __del__(self):\n",
        "    print(\"object deleted\")\n",
        "\n",
        "s1 = student('ali', 34, 'male', 'pakistani', 89)\n",
        "s2= human('ali', 34, 'male', 'pakistani')\n",
        "\n",
        "s1.display_student()\n",
        "print(\"--------------------\")\n",
        "s2.display_human()\n",
        "print(\"--------------------\")\n",
        "s1.display_human()\n",
        "print(\"--------------------\")\n",
        "del s1"
      ],
      "metadata": {
        "colab": {
          "base_uri": "https://localhost:8080/"
        },
        "id": "JPvzXpgugMgv",
        "outputId": "1d1c0815-f4d3-434c-e88d-80d46d5cd9cc"
      },
      "execution_count": 3,
      "outputs": [
        {
          "output_type": "stream",
          "name": "stdout",
          "text": [
            "Name:  ali\n",
            "Age:  34\n",
            "Marks:  89\n",
            "--------------------\n",
            "Name:  ali\n",
            "Age:  34\n",
            "Gender:  male\n",
            "Nationality:  pakistani\n",
            "--------------------\n",
            "Name:  ali\n",
            "Age:  34\n",
            "Gender:  male\n",
            "Nationality:  pakistani\n",
            "--------------------\n",
            "object deleted\n"
          ]
        }
      ]
    },
    {
      "cell_type": "code",
      "source": [
        "class human1:\n",
        "  def __init__(self) -> None:\n",
        "    self.x1='asd'\n",
        "\n",
        "  def display_human(self):\n",
        "    print(\"I am human\")\n",
        "\n",
        "class student(human1):\n",
        "  def __init__(self):\n",
        "    self.x2='qwerty'\n",
        "  def display_student(self):\n",
        "    print(\"I am student\")\n",
        "\n",
        "class teacher:\n",
        "  def __init__(self):\n",
        "    self.id1 = 90\n",
        "  def display_teacher(self):\n",
        "    print(\"I am Teacher\")\n",
        "\n",
        "s4=student()\n",
        "s4.display_human()\n",
        "s4.display_student()"
      ],
      "metadata": {
        "colab": {
          "base_uri": "https://localhost:8080/"
        },
        "id": "3oEXnC1pkhIf",
        "outputId": "fdb220c2-49b0-4443-9611-139766122c4f"
      },
      "execution_count": 22,
      "outputs": [
        {
          "output_type": "stream",
          "name": "stdout",
          "text": [
            "I am human\n",
            "I am student\n"
          ]
        }
      ]
    },
    {
      "cell_type": "code",
      "source": [
        "class BankAccount:\n",
        "  # Initial balance is set to 0 by default\n",
        "  balance = 0\n",
        "\n",
        "  # Method to deposit money into the account\n",
        "  def deposit(self, amount):\n",
        "    self.balance += amount\n",
        "    print(f\"Deposited: ${amount}. New Balance: ${self.balance}\")\n",
        "\n",
        "  # Method to withdraw money from the account\n",
        "  def withdraw(self, amount):\n",
        "    if amount >= self.balance:\n",
        "      print(f\"Insufficient balance. Available Balance: ${self.balance}\")\n",
        "    else:\n",
        "      self.balance -= amount\n",
        "      print(f\"Withdrew: ${amount}. New Balance: ${self.balance}\")\n",
        "\n",
        "# Creating an object (instance) of the BankAccount class\n",
        "my_account = BankAccount()\n",
        "\n",
        "# Depositing money\n",
        "my_account.deposit(1000)\n",
        "\n",
        "# Withdrawing money\n",
        "my_account.withdraw(500)\n",
        "my_account.withdraw(1500)"
      ],
      "metadata": {
        "colab": {
          "base_uri": "https://localhost:8080/"
        },
        "id": "ut3-sCkdy2cV",
        "outputId": "1dd96a38-ff11-4cf9-b2c0-5670450b5225"
      },
      "execution_count": 23,
      "outputs": [
        {
          "output_type": "stream",
          "name": "stdout",
          "text": [
            "Deposited: $1000. New Balance: $1000\n",
            "Withdrew: $500. New Balance: $500\n",
            "Insufficient balance. Available Balance: $500\n"
          ]
        }
      ]
    },
    {
      "cell_type": "code",
      "source": [
        "class animal:\n",
        "  def speak(self):\n",
        "    print(\"animal speaks\")\n",
        "\n",
        "class cat(animal):\n",
        "  def speak(self):\n",
        "    super().speak()\n",
        "    print(\"cat speaks\")\n",
        "    print(\"meow\")\n",
        "\n",
        "class dog(animal):\n",
        "  def speak(self):\n",
        "    super().speak()\n",
        "    print(\"dog speaks\")\n",
        "    print(\"woof\")\n",
        "\n",
        "c1 = cat()\n",
        "d1 = dog()\n",
        "\n",
        "def animal_sound(animal):\n",
        "  animal.speak()\n",
        "\n",
        "animal_sound(c1)\n",
        "print(\"--------------------\")\n",
        "animal_sound(d1)\n",
        "print(\"--------------------\")\n",
        "c1.speak()\n",
        "print(\"--------------------\")\n",
        "d1.speak()"
      ],
      "metadata": {
        "colab": {
          "base_uri": "https://localhost:8080/"
        },
        "id": "dKoa47oW0hMe",
        "outputId": "6f758645-2d45-42ef-8b7d-54d748e3674e"
      },
      "execution_count": 2,
      "outputs": [
        {
          "output_type": "stream",
          "name": "stdout",
          "text": [
            "animal speaks\n",
            "cat speaks\n",
            "meow\n",
            "--------------------\n",
            "animal speaks\n",
            "dog speaks\n",
            "woof\n",
            "--------------------\n",
            "animal speaks\n",
            "cat speaks\n",
            "meow\n",
            "--------------------\n",
            "animal speaks\n",
            "dog speaks\n",
            "woof\n"
          ]
        }
      ]
    },
    {
      "cell_type": "code",
      "source": [
        "class Car:\n",
        "  # Class variable\n",
        "  wheels = 4\n",
        "\n",
        "  # Constructor to initialize inst_var\n",
        "  def __init__(self, color, model):\n",
        "    # Instance variables\n",
        "    self.color = color\n",
        "    self.model = model\n",
        "\n",
        "# Creating objects of the Car class\n",
        "car1 = Car(\"Red\", \"Sedan\")\n",
        "car2 = Car(\"Blue\", \"SUV\")\n",
        "\n",
        "# Accessing class vairable through instance variable\n",
        "print(car1.wheels)\n",
        "print(car2.wheels)\n",
        "print(\"--------------------\")\n",
        "# Accessing instance variables\n",
        "print(car1.color)\n",
        "print(car2.color)\n",
        "print(\"--------------------\")\n",
        "# Modifying the class var by car1\n",
        "car1.wheels = 3\n",
        "\n",
        "# The change affects only car1\n",
        "print(car1.wheels)\n",
        "print(car2.wheels)\n",
        "print(\"--------------------\")\n",
        "# The class variable itself remains unchanged for new instances\n",
        "car3 = Car(\"Green\", \"Hatchback\")\n",
        "print(car3.wheels)"
      ],
      "metadata": {
        "colab": {
          "base_uri": "https://localhost:8080/"
        },
        "id": "DkG97wAD38Q1",
        "outputId": "786b23be-b022-49bd-9278-fa236ff1f894"
      },
      "execution_count": 5,
      "outputs": [
        {
          "output_type": "stream",
          "name": "stdout",
          "text": [
            "4\n",
            "4\n",
            "--------------------\n",
            "Red\n",
            "Blue\n",
            "--------------------\n",
            "3\n",
            "4\n",
            "--------------------\n",
            "4\n"
          ]
        }
      ]
    },
    {
      "cell_type": "code",
      "source": [
        "class Car:\n",
        "  def __init__(self, color, model):\n",
        "    self.color = color\n",
        "    self.model = model\n",
        "    print(f\"Car {self.model} of color {self.color} is created.\")\n",
        "\n",
        "  def __del__(self):\n",
        "    print(f\"Car {self.model} of color {self.color} is destroyed.\")\n",
        "\n",
        "# Creating and deleting an object\n",
        "car1 = Car(\"Red\", \"Sedan\")\n",
        "del car1"
      ],
      "metadata": {
        "colab": {
          "base_uri": "https://localhost:8080/"
        },
        "id": "dHo_al5rGHWr",
        "outputId": "cee13a3b-b63b-4abd-9427-9425b3a55d7b"
      },
      "execution_count": 6,
      "outputs": [
        {
          "output_type": "stream",
          "name": "stdout",
          "text": [
            "Car Sedan of color Red is created.\n",
            "Car Sedan of color Red is destroyed.\n"
          ]
        }
      ]
    },
    {
      "cell_type": "code",
      "source": [
        "'''\n",
        "Objective:\n",
        "you are required to implement a Student class that will manage the data of a student.\n",
        "\n",
        "Teh class should have attributes for storing the student's name, roll number, and a list of grades they have\n",
        "obtained.\n",
        "\n",
        "it should also include methods to calculate the student's average grade and display their details, such as name, roll number and grades.\n",
        "Once the class is defined, create a student object to manage the students data.\n",
        "'''\n",
        "\n",
        "class Student:\n",
        "  def __init__(self, name, roll_number, grades=[]):\n",
        "    self.name = name\n",
        "    self.roll_number = roll_number\n",
        "    self.grades = grades\n",
        "\n",
        "  def calculate_average_grade(self):\n",
        "    return sum(self.grades) / len(self.grades)\n",
        "\n",
        "  def display_details(self):\n",
        "    print(\"Student Details:\")\n",
        "    print(f\"Name: {self.name}\")\n",
        "    print(f\"Roll Number: {self.roll_number}\")\n",
        "    print(f\"Grades: {self.grades}\")\n",
        "    print(f\"Average Grade: {self.calculate_average_grade()}\")\n",
        "\n",
        "# Create a student object\n",
        "student1 = Student(\"Hamza\", \"1001\", [85, 90, 78, 92])\n",
        "\n",
        "# Display student details\n",
        "student1.display_details()\n",
        "print(\"--------------------\")\n",
        "# Create another student object\n",
        "student2 = Student(\"Ali\", \"2002\", [70, 65, 75])\n",
        "\n",
        "# Display details for the second student\n",
        "student2.display_details()\n"
      ],
      "metadata": {
        "colab": {
          "base_uri": "https://localhost:8080/"
        },
        "id": "cCEEr_ZNH_I-",
        "outputId": "6177ce1c-49ef-471f-9580-15d68f71a0e8"
      },
      "execution_count": 8,
      "outputs": [
        {
          "output_type": "stream",
          "name": "stdout",
          "text": [
            "Student Details:\n",
            "Name: Hamza\n",
            "Roll Number: 1001\n",
            "Grades: [85, 90, 78, 92]\n",
            "Average Grade: 86.25\n",
            "--------------------\n",
            "Student Details:\n",
            "Name: Ali\n",
            "Roll Number: 2002\n",
            "Grades: [70, 65, 75]\n",
            "Average Grade: 70.0\n"
          ]
        }
      ]
    },
    {
      "cell_type": "code",
      "source": [],
      "metadata": {
        "id": "q-M55HtZKtAk"
      },
      "execution_count": null,
      "outputs": []
    }
  ]
}