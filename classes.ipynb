{
  "nbformat": 4,
  "nbformat_minor": 0,
  "metadata": {
    "colab": {
      "provenance": [],
      "authorship_tag": "ABX9TyMa2HZW4x8cutoJcZDz4G9M",
      "include_colab_link": true
    },
    "kernelspec": {
      "name": "python3",
      "display_name": "Python 3"
    },
    "language_info": {
      "name": "python"
    }
  },
  "cells": [
    {
      "cell_type": "markdown",
      "metadata": {
        "id": "view-in-github",
        "colab_type": "text"
      },
      "source": [
        "<a href=\"https://colab.research.google.com/github/Haris-09/Python-Programming/blob/main/classes.ipynb\" target=\"_parent\"><img src=\"https://colab.research.google.com/assets/colab-badge.svg\" alt=\"Open In Colab\"/></a>"
      ]
    },
    {
      "cell_type": "code",
      "execution_count": null,
      "metadata": {
        "colab": {
          "base_uri": "https://localhost:8080/"
        },
        "id": "xRwJweW9rmQb",
        "outputId": "c572b2a8-2407-4e9a-e30d-33f9b5354a77"
      },
      "outputs": [
        {
          "output_type": "stream",
          "name": "stdout",
          "text": [
            "This is accelerate function with engine value:  1000cc\n"
          ]
        }
      ],
      "source": [
        "class Car:\n",
        "  color = 'green'     # class attribute\n",
        "\n",
        "  def __init__(self, make='Toyota', model='Corolla', engine='1000cc'):\n",
        "    self.make = make  # instance attribute\n",
        "    self.model = model  # instance attribute\n",
        "    self.engine = engine  # instance attribute\n",
        "\n",
        "  def accelerate(self):\n",
        "    print(\"This is accelerate function with engine value: \", self.engine)\n",
        "\n",
        "  def display(self):\n",
        "    print(\"Car description:\")\n",
        "    print(\"Make: \", self.make)\n",
        "    print(\"Model: \", self.model)\n",
        "    print(\"Engine: \", self.engine)\n",
        "\n",
        "obj1 = Car('Suzuki', 'Swift', '1000cc')\n",
        "obj2 = Car()\n",
        "obj1.accelerate()"
      ]
    },
    {
      "cell_type": "code",
      "source": [
        "obj1.color = 'blue'"
      ],
      "metadata": {
        "id": "3TtJ48TRw1Pb"
      },
      "execution_count": null,
      "outputs": []
    },
    {
      "cell_type": "code",
      "source": [
        "obj1.color"
      ],
      "metadata": {
        "colab": {
          "base_uri": "https://localhost:8080/",
          "height": 35
        },
        "id": "_LoRignf4i9F",
        "outputId": "487adf6d-72df-47f1-c7bd-c51aea78c75c"
      },
      "execution_count": null,
      "outputs": [
        {
          "output_type": "execute_result",
          "data": {
            "text/plain": [
              "'blue'"
            ],
            "application/vnd.google.colaboratory.intrinsic+json": {
              "type": "string"
            }
          },
          "metadata": {},
          "execution_count": 12
        }
      ]
    },
    {
      "cell_type": "code",
      "source": [
        "obj2.color"
      ],
      "metadata": {
        "colab": {
          "base_uri": "https://localhost:8080/",
          "height": 35
        },
        "id": "Mtaf3cIh4oKi",
        "outputId": "3269cd69-dc19-4321-ab72-e842ed002665"
      },
      "execution_count": null,
      "outputs": [
        {
          "output_type": "execute_result",
          "data": {
            "text/plain": [
              "'green'"
            ],
            "application/vnd.google.colaboratory.intrinsic+json": {
              "type": "string"
            }
          },
          "metadata": {},
          "execution_count": 13
        }
      ]
    },
    {
      "cell_type": "code",
      "source": [
        "obj1.display()\n",
        "obj2.display()"
      ],
      "metadata": {
        "colab": {
          "base_uri": "https://localhost:8080/"
        },
        "id": "w0ndPmiH5Gjj",
        "outputId": "f579b9b6-4cb5-4697-851c-dd5f85a24231"
      },
      "execution_count": null,
      "outputs": [
        {
          "output_type": "stream",
          "name": "stdout",
          "text": [
            "Car description:\n",
            "Make:  Suzuki\n",
            "Model:  Swift\n",
            "Engine:  1000cc\n",
            "Car description:\n",
            "Make:  Toyota\n",
            "Model:  Corolla\n",
            "Engine:  1000cc\n"
          ]
        }
      ]
    },
    {
      "cell_type": "code",
      "source": [
        "class Animal:\n",
        "  def __init__(self):\n",
        "    self.type1 = \"herbivoures\"\n",
        "    self.__type2 = \"herbivoures\"\n",
        "\n",
        "  def get_type2(self):\n",
        "    return self.__type2\n",
        "\n",
        "obj1 = Animal()\n",
        "print(obj1.type1)\n",
        "print(obj1.get_type2())"
      ],
      "metadata": {
        "id": "I8UttPgi7oRT",
        "colab": {
          "base_uri": "https://localhost:8080/"
        },
        "outputId": "07a9d363-1fa5-4160-cee1-763c2917391f"
      },
      "execution_count": 7,
      "outputs": [
        {
          "output_type": "stream",
          "name": "stdout",
          "text": [
            "herbivoures\n",
            "herbivoures\n"
          ]
        }
      ]
    },
    {
      "cell_type": "code",
      "source": [
        "class student:\n",
        "  def __init__(self, name1='abc', age1=20, mark1=40):\n",
        "    self.name=name1\n",
        "    self.age=age1\n",
        "    self.marks=mark1\n",
        "  def display_students(self):\n",
        "    print(\"Student data: \", self.name)\n",
        "    print(\"Student data: \", self.age)\n",
        "    print(\"Student data: \", self.marks)\n",
        "  def __del__(self):\n",
        "    print(\"object deleted\")\n",
        "\n",
        "s1 = student('ali', 34, 89)\n",
        "s1.display_students()\n",
        "del s1"
      ],
      "metadata": {
        "colab": {
          "base_uri": "https://localhost:8080/"
        },
        "id": "M-JdlUxOXol9",
        "outputId": "4bc08ce3-fb35-4d7f-da6c-4eaac7c7a1a8"
      },
      "execution_count": 11,
      "outputs": [
        {
          "output_type": "stream",
          "name": "stdout",
          "text": [
            "Student data:  ali\n",
            "Student data:  34\n",
            "Student data:  89\n",
            "object deleted\n"
          ]
        }
      ]
    },
    {
      "cell_type": "code",
      "source": [
        "class Car:\n",
        "  # Attributes\n",
        "  color=\"\"\n",
        "  make=\"\"\n",
        "  model=\"\"\n",
        "\n",
        "  # Method to start the car\n",
        "  def start(self):\n",
        "    print(f\"The {self.make} {self.model} is starting.\")\n",
        "\n",
        "  # Method to stop the car\n",
        "  def stop(self):\n",
        "    print(f\"The {self.make} {self.model} is stopping.\")\n",
        "\n",
        "# Crating an object (instance) of the Car Class\n",
        "my_car = Car()\n",
        "\n",
        "# Setting attributes\n",
        "my_car.color = \"Red\"\n",
        "my_car.make = \"Toyota\"\n",
        "my_car.model = \"Camry\"\n",
        "\n",
        "# Calling methods\n",
        "my_car.start()\n",
        "my_car.stop()\n",
        "\n",
        "Car.color = \"Blue\"\n",
        "print(Car.color)\n",
        "Car.start(my_car)"
      ],
      "metadata": {
        "colab": {
          "base_uri": "https://localhost:8080/"
        },
        "id": "AJaYv5XOh5d8",
        "outputId": "92dad587-db19-4058-a15a-755bf692a4a5"
      },
      "execution_count": 15,
      "outputs": [
        {
          "output_type": "stream",
          "name": "stdout",
          "text": [
            "The Toyota Camry is starting.\n",
            "The Toyota Camry is stopping.\n",
            "Blue\n",
            "The Toyota Camry is starting.\n"
          ]
        }
      ]
    },
    {
      "cell_type": "code",
      "source": [
        "# Objective: You need to create a Library class that will manage a collection of books.\n",
        "# This class should have an attribute called books, which will be a list containing the titles of the books available in the library.\n",
        "\n",
        "# The class should include methods to add a new book to the collection, remove a book from the collection if it exists, and display all the books currently available.\n",
        "\n",
        "# After defining the class, create an instance of the library to manage a collection of books.\n",
        "\n",
        "class Library:\n",
        "  def __init__(self):\n",
        "    self.books = []\n",
        "\n",
        "  def add_book(self, book_title):\n",
        "    \"\"\"Adds a book title to the library's collection.\"\"\"\n",
        "    self.books.append(book_title)\n",
        "    print(f\"'{book_title}' has been added to the library.\")\n",
        "\n",
        "  def remove_book(self, book_title):\n",
        "    \"\"\"Removes a book title from the library's collection if it exists.\"\"\"\n",
        "    if book_title in self.books:\n",
        "      self.books.remove(book_title)\n",
        "      print(f\"'{book_title}' has been removed from the library.\")\n",
        "    else:\n",
        "      print(f\"'{book_title}' is not in the library's collection.\")\n",
        "\n",
        "  def display_books(self):\n",
        "    \"\"\"Displays all the book titles currently in the library.\"\"\"\n",
        "    if self.books:\n",
        "      print(\"Books in the library:\")\n",
        "      for book in self.books:\n",
        "        print(f\"- {book}\")\n",
        "    else:\n",
        "      print(\"The library is currently empty.\")\n",
        "\n",
        "# Create an instance of the Library\n",
        "my_library = Library()\n",
        "\n",
        "# Add some books\n",
        "my_library.add_book(\"Python Programming\")\n",
        "my_library.add_book(\"Data Analytics\")\n",
        "my_library.add_book(\"Machine Learning\")\n",
        "\n",
        "# Display the books\n",
        "my_library.display_books()\n",
        "\n",
        "# Remove a book\n",
        "my_library.remove_book(\"Data Analytics\")\n",
        "my_library.remove_book(\"Deep Learning\") # Trying to remove a book that doesn't exist\n",
        "\n",
        "# Display the books again\n",
        "my_library.display_books()"
      ],
      "metadata": {
        "colab": {
          "base_uri": "https://localhost:8080/"
        },
        "id": "BjYEzLVWdrDU",
        "outputId": "ffdc7ef8-e7c5-42f3-88af-4abab8657c59"
      },
      "execution_count": 16,
      "outputs": [
        {
          "output_type": "stream",
          "name": "stdout",
          "text": [
            "'Python Programming' has been added to the library.\n",
            "'Data Analytics' has been added to the library.\n",
            "'Machine Learning' has been added to the library.\n",
            "Books in the library:\n",
            "- Python Programming\n",
            "- Data Analytics\n",
            "- Machine Learning\n",
            "'Data Analytics' has been removed from the library.\n",
            "'Deep Learning' is not in the library's collection.\n",
            "Books in the library:\n",
            "- Python Programming\n",
            "- Machine Learning\n"
          ]
        }
      ]
    },
    {
      "cell_type": "code",
      "source": [
        "class human:\n",
        "  def __init__(self, name1, age1, gender1, nationality1):\n",
        "    self.name = name1\n",
        "    self.age = age1\n",
        "    self.gender = gender1\n",
        "    self.__nationality = nationality1\n",
        "\n",
        "  def display_human(self):\n",
        "    print(\"Name: \", self.name)\n",
        "    print(\"Age: \", self.age)\n",
        "    print(\"Gender: \", self.gender)\n",
        "    print(\"Nationality: \", self.__nationality)\n",
        "\n",
        "class student(human):\n",
        "  def __init__(self, name1, age1, mark1):\n",
        "    self.name = name1\n",
        "    self.age = age1\n",
        "    self.marks = mark1\n",
        "\n",
        "  def display_student(self):\n",
        "    print(\"Name: \", self.name)\n",
        "    print(\"Age: \", self.age)\n",
        "    print(\"Marks: \", self.marks)\n",
        "\n",
        "  def __del__(self):\n",
        "    print(\"object deleted\")\n",
        "\n",
        "s1 = student('ali', 34, 89)\n",
        "s2= human('ali', 34, 'male', 'pakistani')\n",
        "\n",
        "s1.display_student()\n",
        "s2.display_human()\n",
        "s1.display_human()\n",
        "\n",
        "del s1"
      ],
      "metadata": {
        "colab": {
          "base_uri": "https://localhost:8080/",
          "height": 488
        },
        "id": "JPvzXpgugMgv",
        "outputId": "602e8f29-6b87-45f0-cf91-e5d78d47cded"
      },
      "execution_count": 21,
      "outputs": [
        {
          "output_type": "stream",
          "name": "stdout",
          "text": [
            "Name:  ali\n",
            "Age:  34\n",
            "Marks:  89\n",
            "Name:  ali\n",
            "Age:  34\n",
            "Gender:  male\n",
            "Nationality:  pakistani\n",
            "Name:  ali\n",
            "Age:  34\n"
          ]
        },
        {
          "output_type": "error",
          "ename": "AttributeError",
          "evalue": "'student' object has no attribute 'gender'",
          "traceback": [
            "\u001b[0;31m---------------------------------------------------------------------------\u001b[0m",
            "\u001b[0;31mAttributeError\u001b[0m                            Traceback (most recent call last)",
            "\u001b[0;32m<ipython-input-21-4559a108c500>\u001b[0m in \u001b[0;36m<cell line: 0>\u001b[0;34m()\u001b[0m\n\u001b[1;32m     31\u001b[0m \u001b[0ms1\u001b[0m\u001b[0;34m.\u001b[0m\u001b[0mdisplay_student\u001b[0m\u001b[0;34m(\u001b[0m\u001b[0;34m)\u001b[0m\u001b[0;34m\u001b[0m\u001b[0;34m\u001b[0m\u001b[0m\n\u001b[1;32m     32\u001b[0m \u001b[0ms2\u001b[0m\u001b[0;34m.\u001b[0m\u001b[0mdisplay_human\u001b[0m\u001b[0;34m(\u001b[0m\u001b[0;34m)\u001b[0m\u001b[0;34m\u001b[0m\u001b[0;34m\u001b[0m\u001b[0m\n\u001b[0;32m---> 33\u001b[0;31m \u001b[0ms1\u001b[0m\u001b[0;34m.\u001b[0m\u001b[0mdisplay_human\u001b[0m\u001b[0;34m(\u001b[0m\u001b[0;34m)\u001b[0m\u001b[0;34m\u001b[0m\u001b[0;34m\u001b[0m\u001b[0m\n\u001b[0m\u001b[1;32m     34\u001b[0m \u001b[0;34m\u001b[0m\u001b[0m\n\u001b[1;32m     35\u001b[0m \u001b[0;32mdel\u001b[0m \u001b[0ms1\u001b[0m\u001b[0;34m\u001b[0m\u001b[0;34m\u001b[0m\u001b[0m\n",
            "\u001b[0;32m<ipython-input-21-4559a108c500>\u001b[0m in \u001b[0;36mdisplay_human\u001b[0;34m(self)\u001b[0m\n\u001b[1;32m      9\u001b[0m     \u001b[0mprint\u001b[0m\u001b[0;34m(\u001b[0m\u001b[0;34m\"Name: \"\u001b[0m\u001b[0;34m,\u001b[0m \u001b[0mself\u001b[0m\u001b[0;34m.\u001b[0m\u001b[0mname\u001b[0m\u001b[0;34m)\u001b[0m\u001b[0;34m\u001b[0m\u001b[0;34m\u001b[0m\u001b[0m\n\u001b[1;32m     10\u001b[0m     \u001b[0mprint\u001b[0m\u001b[0;34m(\u001b[0m\u001b[0;34m\"Age: \"\u001b[0m\u001b[0;34m,\u001b[0m \u001b[0mself\u001b[0m\u001b[0;34m.\u001b[0m\u001b[0mage\u001b[0m\u001b[0;34m)\u001b[0m\u001b[0;34m\u001b[0m\u001b[0;34m\u001b[0m\u001b[0m\n\u001b[0;32m---> 11\u001b[0;31m     \u001b[0mprint\u001b[0m\u001b[0;34m(\u001b[0m\u001b[0;34m\"Gender: \"\u001b[0m\u001b[0;34m,\u001b[0m \u001b[0mself\u001b[0m\u001b[0;34m.\u001b[0m\u001b[0mgender\u001b[0m\u001b[0;34m)\u001b[0m\u001b[0;34m\u001b[0m\u001b[0;34m\u001b[0m\u001b[0m\n\u001b[0m\u001b[1;32m     12\u001b[0m     \u001b[0mprint\u001b[0m\u001b[0;34m(\u001b[0m\u001b[0;34m\"Nationality: \"\u001b[0m\u001b[0;34m,\u001b[0m \u001b[0mself\u001b[0m\u001b[0;34m.\u001b[0m\u001b[0m__nationality\u001b[0m\u001b[0;34m)\u001b[0m\u001b[0;34m\u001b[0m\u001b[0;34m\u001b[0m\u001b[0m\n\u001b[1;32m     13\u001b[0m \u001b[0;34m\u001b[0m\u001b[0m\n",
            "\u001b[0;31mAttributeError\u001b[0m: 'student' object has no attribute 'gender'"
          ]
        }
      ]
    },
    {
      "cell_type": "code",
      "source": [
        "\n",
        "\n",
        "class teacher:\n",
        "  def __init__(self):\n",
        "    self.id1 = 90\n",
        "  def display_teacher(self):\n",
        "    print(\"I am Teacher\")"
      ],
      "metadata": {
        "id": "3oEXnC1pkhIf"
      },
      "execution_count": null,
      "outputs": []
    }
  ]
}