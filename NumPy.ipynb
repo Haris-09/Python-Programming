{
  "nbformat": 4,
  "nbformat_minor": 0,
  "metadata": {
    "colab": {
      "provenance": [],
      "authorship_tag": "ABX9TyOf5IFh6hsu2JHlmNkmAej3",
      "include_colab_link": true
    },
    "kernelspec": {
      "name": "python3",
      "display_name": "Python 3"
    },
    "language_info": {
      "name": "python"
    }
  },
  "cells": [
    {
      "cell_type": "markdown",
      "metadata": {
        "id": "view-in-github",
        "colab_type": "text"
      },
      "source": [
        "<a href=\"https://colab.research.google.com/github/Haris-09/Python-Programming/blob/main/NumPy.ipynb\" target=\"_parent\"><img src=\"https://colab.research.google.com/assets/colab-badge.svg\" alt=\"Open In Colab\"/></a>"
      ]
    },
    {
      "cell_type": "code",
      "execution_count": 1,
      "metadata": {
        "colab": {
          "base_uri": "https://localhost:8080/",
          "height": 176
        },
        "id": "s5BXYfIEpMd8",
        "outputId": "6f80251c-307f-46ea-917b-f1ffbcd0c29a"
      },
      "outputs": [
        {
          "output_type": "error",
          "ename": "TypeError",
          "evalue": "unsupported operand type(s) for /: 'list' and 'list'",
          "traceback": [
            "\u001b[0;31m---------------------------------------------------------------------------\u001b[0m",
            "\u001b[0;31mTypeError\u001b[0m                                 Traceback (most recent call last)",
            "\u001b[0;32m<ipython-input-1-93c4a9f6145a>\u001b[0m in \u001b[0;36m<cell line: 0>\u001b[0;34m()\u001b[0m\n\u001b[1;32m      2\u001b[0m \u001b[0ml2\u001b[0m \u001b[0;34m=\u001b[0m \u001b[0;34m[\u001b[0m\u001b[0;36m23\u001b[0m\u001b[0;34m,\u001b[0m \u001b[0;36m4\u001b[0m\u001b[0;34m,\u001b[0m \u001b[0;36m6\u001b[0m\u001b[0;34m,\u001b[0m \u001b[0;36m8\u001b[0m\u001b[0;34m,\u001b[0m \u001b[0;36m9\u001b[0m\u001b[0;34m,\u001b[0m \u001b[0;36m2\u001b[0m\u001b[0;34m]\u001b[0m\u001b[0;34m\u001b[0m\u001b[0;34m\u001b[0m\u001b[0m\n\u001b[1;32m      3\u001b[0m \u001b[0;34m\u001b[0m\u001b[0m\n\u001b[0;32m----> 4\u001b[0;31m \u001b[0mprint\u001b[0m\u001b[0;34m(\u001b[0m\u001b[0ml1\u001b[0m\u001b[0;34m/\u001b[0m\u001b[0ml2\u001b[0m\u001b[0;34m)\u001b[0m\u001b[0;34m\u001b[0m\u001b[0;34m\u001b[0m\u001b[0m\n\u001b[0m",
            "\u001b[0;31mTypeError\u001b[0m: unsupported operand type(s) for /: 'list' and 'list'"
          ]
        }
      ],
      "source": [
        "l1 = [1, 2, 3, 4, 5, 6]\n",
        "l2 = [23, 4, 6, 8, 9, 2]\n",
        "\n",
        "print(l1/l2)"
      ]
    },
    {
      "cell_type": "code",
      "source": [
        "import numpy as np\n",
        "l1_array = np.array([1,2,3])\n",
        "print(l1_array)"
      ],
      "metadata": {
        "colab": {
          "base_uri": "https://localhost:8080/"
        },
        "id": "1KtulU7apvAO",
        "outputId": "6a873173-d52a-4ef0-808e-d5a642f24cda"
      },
      "execution_count": 12,
      "outputs": [
        {
          "output_type": "stream",
          "name": "stdout",
          "text": [
            "[1 2 3]\n"
          ]
        }
      ]
    },
    {
      "cell_type": "code",
      "source": [
        "l1_array = np.array(l1)\n",
        "l2_array = np.array(l2)\n",
        "print(l1_array/l2_array)"
      ],
      "metadata": {
        "colab": {
          "base_uri": "https://localhost:8080/"
        },
        "id": "7OLPpv6TquIm",
        "outputId": "b22ccaa7-5122-4f19-a815-fbadf2ce0917"
      },
      "execution_count": 13,
      "outputs": [
        {
          "output_type": "stream",
          "name": "stdout",
          "text": [
            "[0.04347826 0.5        0.5        0.5        0.55555556 3.        ]\n"
          ]
        }
      ]
    },
    {
      "cell_type": "code",
      "source": [
        "list2 = [2, 3, 'str1', True]"
      ],
      "metadata": {
        "id": "-XOlODMGq8oS"
      },
      "execution_count": 14,
      "outputs": []
    },
    {
      "cell_type": "code",
      "source": [
        "list2_array = np.array(list2)\n",
        "print(list2_array)"
      ],
      "metadata": {
        "colab": {
          "base_uri": "https://localhost:8080/"
        },
        "id": "hzX7gavLrXtS",
        "outputId": "cd54ded2-7e95-454b-ca2e-cbd8633a269f"
      },
      "execution_count": 15,
      "outputs": [
        {
          "output_type": "stream",
          "name": "stdout",
          "text": [
            "['2' '3' 'str1' 'True']\n"
          ]
        }
      ]
    },
    {
      "cell_type": "code",
      "source": [
        "l5 = [2, 3, 4]\n",
        "l6 = [100, 200, 300]\n",
        "print(l5+l6)"
      ],
      "metadata": {
        "colab": {
          "base_uri": "https://localhost:8080/"
        },
        "id": "KOoo7SJjrelY",
        "outputId": "487938f6-478a-4c2c-a29b-779664f2dfa3"
      },
      "execution_count": 16,
      "outputs": [
        {
          "output_type": "stream",
          "name": "stdout",
          "text": [
            "[2, 3, 4, 100, 200, 300]\n"
          ]
        }
      ]
    },
    {
      "cell_type": "code",
      "source": [
        "l7 = np.array(l5)\n",
        "l8 = np.array(l6)\n",
        "print(l7+l8)"
      ],
      "metadata": {
        "colab": {
          "base_uri": "https://localhost:8080/"
        },
        "id": "pNcgg1tbsVes",
        "outputId": "add28aff-cc91-4485-d049-1d48c93a2de1"
      },
      "execution_count": 17,
      "outputs": [
        {
          "output_type": "stream",
          "name": "stdout",
          "text": [
            "[102 203 304]\n"
          ]
        }
      ]
    },
    {
      "cell_type": "code",
      "source": [
        "height = [1.73, 1.68, 1.71, 1.89, 1.79]\n",
        "height"
      ],
      "metadata": {
        "colab": {
          "base_uri": "https://localhost:8080/"
        },
        "id": "HVfU_REQslvq",
        "outputId": "36d89889-14bf-41f8-dd11-4df86eee5749"
      },
      "execution_count": 18,
      "outputs": [
        {
          "output_type": "execute_result",
          "data": {
            "text/plain": [
              "[1.73, 1.68, 1.71, 1.89, 1.79]"
            ]
          },
          "metadata": {},
          "execution_count": 18
        }
      ]
    },
    {
      "cell_type": "code",
      "source": [
        "weight = [65.4, 59.2, 63.6, 88.4, 68.7]\n",
        "weight"
      ],
      "metadata": {
        "colab": {
          "base_uri": "https://localhost:8080/"
        },
        "id": "hDpWNINauwAB",
        "outputId": "df72fbb3-7df8-489e-a6d2-8aece30cda76"
      },
      "execution_count": 19,
      "outputs": [
        {
          "output_type": "execute_result",
          "data": {
            "text/plain": [
              "[65.4, 59.2, 63.6, 88.4, 68.7]"
            ]
          },
          "metadata": {},
          "execution_count": 19
        }
      ]
    },
    {
      "cell_type": "code",
      "source": [
        "weight / height ** 2"
      ],
      "metadata": {
        "colab": {
          "base_uri": "https://localhost:8080/",
          "height": 141
        },
        "id": "AmPrPtRIu5SY",
        "outputId": "3fc7b6e2-9e5b-4033-da6e-9e7972f5fea0"
      },
      "execution_count": 20,
      "outputs": [
        {
          "output_type": "error",
          "ename": "TypeError",
          "evalue": "unsupported operand type(s) for ** or pow(): 'list' and 'int'",
          "traceback": [
            "\u001b[0;31m---------------------------------------------------------------------------\u001b[0m",
            "\u001b[0;31mTypeError\u001b[0m                                 Traceback (most recent call last)",
            "\u001b[0;32m<ipython-input-20-6a4c0c70e3b9>\u001b[0m in \u001b[0;36m<cell line: 0>\u001b[0;34m()\u001b[0m\n\u001b[0;32m----> 1\u001b[0;31m \u001b[0mweight\u001b[0m \u001b[0;34m/\u001b[0m \u001b[0mheight\u001b[0m \u001b[0;34m**\u001b[0m \u001b[0;36m2\u001b[0m\u001b[0;34m\u001b[0m\u001b[0;34m\u001b[0m\u001b[0m\n\u001b[0m",
            "\u001b[0;31mTypeError\u001b[0m: unsupported operand type(s) for ** or pow(): 'list' and 'int'"
          ]
        }
      ]
    },
    {
      "cell_type": "code",
      "source": [
        "import numpy as np\n",
        "np_height = np.array(height)\n",
        "np_height"
      ],
      "metadata": {
        "colab": {
          "base_uri": "https://localhost:8080/"
        },
        "id": "D96YoOzmu-wI",
        "outputId": "1188b972-09ec-41cf-9195-6a4a7a243676"
      },
      "execution_count": 21,
      "outputs": [
        {
          "output_type": "execute_result",
          "data": {
            "text/plain": [
              "array([1.73, 1.68, 1.71, 1.89, 1.79])"
            ]
          },
          "metadata": {},
          "execution_count": 21
        }
      ]
    },
    {
      "cell_type": "code",
      "source": [
        "np_weight = np.array(weight)\n",
        "np_weight"
      ],
      "metadata": {
        "colab": {
          "base_uri": "https://localhost:8080/"
        },
        "id": "HAD-PXe_v0QP",
        "outputId": "cba973dc-b620-4199-d16f-eb48be36f026"
      },
      "execution_count": 22,
      "outputs": [
        {
          "output_type": "execute_result",
          "data": {
            "text/plain": [
              "array([65.4, 59.2, 63.6, 88.4, 68.7])"
            ]
          },
          "metadata": {},
          "execution_count": 22
        }
      ]
    },
    {
      "cell_type": "code",
      "source": [
        "bmi = np_weight / np_height ** 2\n",
        "bmi"
      ],
      "metadata": {
        "colab": {
          "base_uri": "https://localhost:8080/"
        },
        "id": "-s-LSWoWv-bD",
        "outputId": "1d4f0eda-273b-407c-84f5-c955b89a6773"
      },
      "execution_count": 23,
      "outputs": [
        {
          "output_type": "execute_result",
          "data": {
            "text/plain": [
              "array([21.85171573, 20.97505669, 21.75028214, 24.7473475 , 21.44127836])"
            ]
          },
          "metadata": {},
          "execution_count": 23
        }
      ]
    },
    {
      "cell_type": "code",
      "source": [
        "# NumPy arrays: contain only one type will implicitly converts all elements to sting type\n",
        "np.array([1.0, \"is\", True])"
      ],
      "metadata": {
        "colab": {
          "base_uri": "https://localhost:8080/"
        },
        "id": "NkKTyOwlwETC",
        "outputId": "362bb08b-d4bd-4178-83fa-edba7fa2bf0a"
      },
      "execution_count": 24,
      "outputs": [
        {
          "output_type": "execute_result",
          "data": {
            "text/plain": [
              "array(['1.0', 'is', 'True'], dtype='<U32')"
            ]
          },
          "metadata": {},
          "execution_count": 24
        }
      ]
    },
    {
      "cell_type": "code",
      "source": [
        "d2_list = [[1,2,3],[9,8,7]]\n",
        "print(d2_list)"
      ],
      "metadata": {
        "colab": {
          "base_uri": "https://localhost:8080/"
        },
        "id": "szjf77Aew0Ix",
        "outputId": "fb03d98f-7a3e-47ad-e5e1-033e2becb528"
      },
      "execution_count": 25,
      "outputs": [
        {
          "output_type": "stream",
          "name": "stdout",
          "text": [
            "[[1, 2, 3], [9, 8, 7]]\n"
          ]
        }
      ]
    },
    {
      "cell_type": "code",
      "source": [
        "d2_array = np.array([[1,2,3],[9,8,7]])\n",
        "print(d2_array)"
      ],
      "metadata": {
        "colab": {
          "base_uri": "https://localhost:8080/"
        },
        "id": "tEq79siGx4r9",
        "outputId": "e946a85f-2341-46aa-e945-901e34fa6b47"
      },
      "execution_count": 26,
      "outputs": [
        {
          "output_type": "stream",
          "name": "stdout",
          "text": [
            "[[1 2 3]\n",
            " [9 8 7]]\n"
          ]
        }
      ]
    },
    {
      "cell_type": "code",
      "source": [
        "d2_array[:,0]"
      ],
      "metadata": {
        "colab": {
          "base_uri": "https://localhost:8080/"
        },
        "id": "-yCbYaEUyPrz",
        "outputId": "ab920fb9-a1f7-4b4b-8127-5d99908e14f6"
      },
      "execution_count": 27,
      "outputs": [
        {
          "output_type": "execute_result",
          "data": {
            "text/plain": [
              "array([1, 9])"
            ]
          },
          "metadata": {},
          "execution_count": 27
        }
      ]
    },
    {
      "cell_type": "code",
      "source": [
        "print(d2_array[1,1])\n",
        "print(d2_array[1][1])"
      ],
      "metadata": {
        "colab": {
          "base_uri": "https://localhost:8080/"
        },
        "id": "OEf5nW68yh_R",
        "outputId": "232bae1b-852e-4a47-c49f-0bde82a4fad7"
      },
      "execution_count": 28,
      "outputs": [
        {
          "output_type": "stream",
          "name": "stdout",
          "text": [
            "8\n",
            "8\n"
          ]
        }
      ]
    },
    {
      "cell_type": "code",
      "source": [
        "num_list = [23,5,78,23,90,12]\n",
        "print(num_list>20)"
      ],
      "metadata": {
        "colab": {
          "base_uri": "https://localhost:8080/",
          "height": 159
        },
        "id": "95RG7YBEzIpg",
        "outputId": "e1d166a6-e8ea-4ae3-a201-fd3ead45a451"
      },
      "execution_count": 29,
      "outputs": [
        {
          "output_type": "error",
          "ename": "TypeError",
          "evalue": "'>' not supported between instances of 'list' and 'int'",
          "traceback": [
            "\u001b[0;31m---------------------------------------------------------------------------\u001b[0m",
            "\u001b[0;31mTypeError\u001b[0m                                 Traceback (most recent call last)",
            "\u001b[0;32m<ipython-input-29-51e33d3dd5aa>\u001b[0m in \u001b[0;36m<cell line: 0>\u001b[0;34m()\u001b[0m\n\u001b[1;32m      1\u001b[0m \u001b[0mnum_list\u001b[0m \u001b[0;34m=\u001b[0m \u001b[0;34m[\u001b[0m\u001b[0;36m23\u001b[0m\u001b[0;34m,\u001b[0m\u001b[0;36m5\u001b[0m\u001b[0;34m,\u001b[0m\u001b[0;36m78\u001b[0m\u001b[0;34m,\u001b[0m\u001b[0;36m23\u001b[0m\u001b[0;34m,\u001b[0m\u001b[0;36m90\u001b[0m\u001b[0;34m,\u001b[0m\u001b[0;36m12\u001b[0m\u001b[0;34m]\u001b[0m\u001b[0;34m\u001b[0m\u001b[0;34m\u001b[0m\u001b[0m\n\u001b[0;32m----> 2\u001b[0;31m \u001b[0mprint\u001b[0m\u001b[0;34m(\u001b[0m\u001b[0mnum_list\u001b[0m\u001b[0;34m>\u001b[0m\u001b[0;36m20\u001b[0m\u001b[0;34m)\u001b[0m\u001b[0;34m\u001b[0m\u001b[0;34m\u001b[0m\u001b[0m\n\u001b[0m",
            "\u001b[0;31mTypeError\u001b[0m: '>' not supported between instances of 'list' and 'int'"
          ]
        }
      ]
    },
    {
      "cell_type": "code",
      "source": [
        "new_list = []\n",
        "for i in num_list:\n",
        "    if i>20:\n",
        "      new_list.append(i)\n",
        "print(new_list)"
      ],
      "metadata": {
        "colab": {
          "base_uri": "https://localhost:8080/"
        },
        "id": "7qRvu6fK1zI2",
        "outputId": "11884608-5910-4677-cc60-21e3dabc16d9"
      },
      "execution_count": 30,
      "outputs": [
        {
          "output_type": "stream",
          "name": "stdout",
          "text": [
            "[23, 78, 23, 90]\n"
          ]
        }
      ]
    },
    {
      "cell_type": "code",
      "source": [
        "num_arryay = np.array(num_list)\n",
        "print(num_arryay>20)\n",
        "print(num_arryay[num_arryay>20])\n",
        "print"
      ],
      "metadata": {
        "colab": {
          "base_uri": "https://localhost:8080/"
        },
        "id": "-_X6LFANz5wR",
        "outputId": "0169bf9f-9b12-408f-e0fe-48a294419210"
      },
      "execution_count": 31,
      "outputs": [
        {
          "output_type": "stream",
          "name": "stdout",
          "text": [
            "[ True False  True  True  True False]\n",
            "[23 78 23 90]\n"
          ]
        },
        {
          "output_type": "execute_result",
          "data": {
            "text/plain": [
              "<function print(*args, sep=' ', end='\\n', file=None, flush=False)>"
            ]
          },
          "metadata": {},
          "execution_count": 31
        }
      ]
    },
    {
      "cell_type": "code",
      "source": [
        "# lists concatenates and numpy arrays element wise addition\n",
        "python_list = [1,2,3]\n",
        "numpy_array = np.array([1,2,3])\n",
        "print(python_list+python_list)\n",
        "print(numpy_array+numpy_array)"
      ],
      "metadata": {
        "colab": {
          "base_uri": "https://localhost:8080/"
        },
        "id": "bqzUZ_Mn0H5G",
        "outputId": "449fd00b-e6c1-468c-88f7-58fdde50605a"
      },
      "execution_count": 32,
      "outputs": [
        {
          "output_type": "stream",
          "name": "stdout",
          "text": [
            "[1, 2, 3, 1, 2, 3]\n",
            "[2 4 6]\n"
          ]
        }
      ]
    },
    {
      "cell_type": "code",
      "source": [
        "arr2d = [[1,2,3,4,5,6,7,8],[23,5,7,90,12,23,34,76]]"
      ],
      "metadata": {
        "id": "ZzcQxvdb3ib4"
      },
      "execution_count": 33,
      "outputs": []
    },
    {
      "cell_type": "code",
      "source": [
        "arr1 = [34,56]\n",
        "arr2 = [2,3,4]\n",
        "print(arr1+arr2)"
      ],
      "metadata": {
        "colab": {
          "base_uri": "https://localhost:8080/"
        },
        "id": "DZXGzyKl49BO",
        "outputId": "92be367a-af78-40d8-a863-8807047beaaf"
      },
      "execution_count": 34,
      "outputs": [
        {
          "output_type": "stream",
          "name": "stdout",
          "text": [
            "[34, 56, 2, 3, 4]\n"
          ]
        }
      ]
    },
    {
      "cell_type": "code",
      "source": [
        "# Arrays should have same shape\n",
        "n_arr1 = np.array(arr1)\n",
        "n_arr2 = np.array(arr2)\n",
        "print(n_arr1+n_arr2)"
      ],
      "metadata": {
        "colab": {
          "base_uri": "https://localhost:8080/",
          "height": 176
        },
        "id": "MwAwKIMh5L3U",
        "outputId": "17d05cdd-b487-4b1b-e548-d8875c2d7466"
      },
      "execution_count": 35,
      "outputs": [
        {
          "output_type": "error",
          "ename": "ValueError",
          "evalue": "operands could not be broadcast together with shapes (2,) (3,) ",
          "traceback": [
            "\u001b[0;31m---------------------------------------------------------------------------\u001b[0m",
            "\u001b[0;31mValueError\u001b[0m                                Traceback (most recent call last)",
            "\u001b[0;32m<ipython-input-35-41242da8fbb2>\u001b[0m in \u001b[0;36m<cell line: 0>\u001b[0;34m()\u001b[0m\n\u001b[1;32m      2\u001b[0m \u001b[0mn_arr1\u001b[0m \u001b[0;34m=\u001b[0m \u001b[0mnp\u001b[0m\u001b[0;34m.\u001b[0m\u001b[0marray\u001b[0m\u001b[0;34m(\u001b[0m\u001b[0marr1\u001b[0m\u001b[0;34m)\u001b[0m\u001b[0;34m\u001b[0m\u001b[0;34m\u001b[0m\u001b[0m\n\u001b[1;32m      3\u001b[0m \u001b[0mn_arr2\u001b[0m \u001b[0;34m=\u001b[0m \u001b[0mnp\u001b[0m\u001b[0;34m.\u001b[0m\u001b[0marray\u001b[0m\u001b[0;34m(\u001b[0m\u001b[0marr2\u001b[0m\u001b[0;34m)\u001b[0m\u001b[0;34m\u001b[0m\u001b[0;34m\u001b[0m\u001b[0m\n\u001b[0;32m----> 4\u001b[0;31m \u001b[0mprint\u001b[0m\u001b[0;34m(\u001b[0m\u001b[0mn_arr1\u001b[0m\u001b[0;34m+\u001b[0m\u001b[0mn_arr2\u001b[0m\u001b[0;34m)\u001b[0m\u001b[0;34m\u001b[0m\u001b[0;34m\u001b[0m\u001b[0m\n\u001b[0m",
            "\u001b[0;31mValueError\u001b[0m: operands could not be broadcast together with shapes (2,) (3,) "
          ]
        }
      ]
    },
    {
      "cell_type": "code",
      "source": [
        "arr2d = [[1,2,3,4,5,6,7,8],[23,5,7,90,12,23,34,76]]\n",
        "numpy_arr2d = np.array(arr2d)\n",
        "print(numpy_arr2d[:, 1:3])"
      ],
      "metadata": {
        "colab": {
          "base_uri": "https://localhost:8080/"
        },
        "id": "5QBi0Prq5jts",
        "outputId": "c64e945d-d8b0-45e1-be49-139f2d8f765b"
      },
      "execution_count": 36,
      "outputs": [
        {
          "output_type": "stream",
          "name": "stdout",
          "text": [
            "[[2 3]\n",
            " [5 7]]\n"
          ]
        }
      ]
    },
    {
      "cell_type": "code",
      "source": [
        "np_2d = np.array([[1.73,1.68,1.71,1.89,1.79],\n",
        "                 [65.4,59.2,63.6,88.4,68.7]])\n",
        "np_2d"
      ],
      "metadata": {
        "colab": {
          "base_uri": "https://localhost:8080/"
        },
        "id": "Izac_p5d7b8N",
        "outputId": "2352cd7d-2d9d-44c3-9212-bd4dc2589866"
      },
      "execution_count": 37,
      "outputs": [
        {
          "output_type": "execute_result",
          "data": {
            "text/plain": [
              "array([[ 1.73,  1.68,  1.71,  1.89,  1.79],\n",
              "       [65.4 , 59.2 , 63.6 , 88.4 , 68.7 ]])"
            ]
          },
          "metadata": {},
          "execution_count": 37
        }
      ]
    },
    {
      "cell_type": "code",
      "source": [
        "np_2d.shape"
      ],
      "metadata": {
        "colab": {
          "base_uri": "https://localhost:8080/"
        },
        "id": "nepiyfMF71Z4",
        "outputId": "7845aed5-2dbd-4247-859a-dfa7481964d9"
      },
      "execution_count": 38,
      "outputs": [
        {
          "output_type": "execute_result",
          "data": {
            "text/plain": [
              "(2, 5)"
            ]
          },
          "metadata": {},
          "execution_count": 38
        }
      ]
    },
    {
      "cell_type": "code",
      "source": [
        "np_2d = np.array([[1.73,1.68,1.71,1.89,1.79],\n",
        "                 [65.4,59.2,63.6,88.4,\"68.7\"]])\n",
        "np_2d"
      ],
      "metadata": {
        "colab": {
          "base_uri": "https://localhost:8080/"
        },
        "id": "dyNX0EAL7_c7",
        "outputId": "e0627ec2-bdd2-4a2c-b343-57c930d700b5"
      },
      "execution_count": 39,
      "outputs": [
        {
          "output_type": "execute_result",
          "data": {
            "text/plain": [
              "array([['1.73', '1.68', '1.71', '1.89', '1.79'],\n",
              "       ['65.4', '59.2', '63.6', '88.4', '68.7']], dtype='<U32')"
            ]
          },
          "metadata": {},
          "execution_count": 39
        }
      ]
    },
    {
      "cell_type": "code",
      "source": [
        "student1 = np.array([[\"ali\", \"sara\", \"zara\"],[2, 12, 3],[23, 34, 90]])\n",
        "print(student1)\n",
        "\n",
        "marks_int = []\n",
        "marks = student1[2]\n",
        "for mark in marks:\n",
        "  marks_int.append(int(mark))\n",
        "\n",
        "print(np.mean(marks_int))\n",
        "print(np.mean(np.astype(student1[2], int)))\n",
        "print(np.mean(np.int32(student1[2])))\n",
        "print(np.mean(student1[2].astype(int)))"
      ],
      "metadata": {
        "colab": {
          "base_uri": "https://localhost:8080/"
        },
        "id": "r_QmeRAK8QWX",
        "outputId": "c7809032-62be-4a7a-de7e-644bcaa5b5e0"
      },
      "execution_count": 40,
      "outputs": [
        {
          "output_type": "stream",
          "name": "stdout",
          "text": [
            "[['ali' 'sara' 'zara']\n",
            " ['2' '12' '3']\n",
            " ['23' '34' '90']]\n",
            "49.0\n",
            "49.0\n",
            "49.0\n",
            "49.0\n"
          ]
        }
      ]
    },
    {
      "cell_type": "code",
      "source": [
        "data = [3, 7, 5, 12, 8]\n",
        "print(np.mean(data))\n",
        "print(np.median(data))\n",
        "print(f\"{np.std(data):.2f}\")\n",
        "print(np.max(data))\n",
        "print(np.min(data))"
      ],
      "metadata": {
        "colab": {
          "base_uri": "https://localhost:8080/"
        },
        "id": "QSbfV0MGHidP",
        "outputId": "aa5dc637-2a4a-472d-dff2-1174ecf40d3b"
      },
      "execution_count": 41,
      "outputs": [
        {
          "output_type": "stream",
          "name": "stdout",
          "text": [
            "7.0\n",
            "7.0\n",
            "3.03\n",
            "12\n",
            "3\n"
          ]
        }
      ]
    },
    {
      "cell_type": "code",
      "source": [
        "np.random.rand(3,2)"
      ],
      "metadata": {
        "colab": {
          "base_uri": "https://localhost:8080/"
        },
        "id": "BB4_iYQWMhLN",
        "outputId": "1560f3af-3088-414e-8115-cd1d0f29be2a"
      },
      "execution_count": 42,
      "outputs": [
        {
          "output_type": "execute_result",
          "data": {
            "text/plain": [
              "array([[0.51143782, 0.07244413],\n",
              "       [0.10352722, 0.31073331],\n",
              "       [0.73021576, 0.73599815]])"
            ]
          },
          "metadata": {},
          "execution_count": 42
        }
      ]
    },
    {
      "cell_type": "code",
      "source": [
        "num_array = np.array([1, 2, 3, 4, 5])\n",
        "print(num_array[1])\n",
        "print(num_array[1:4])\n",
        "num_array[0:3] = [10,20,30]\n",
        "print(num_array)\n",
        "\n",
        "num_list = [1, 2, 3, 4, 5]\n",
        "print(num_list[1])\n",
        "print(num_list[1:4])\n",
        "num_list[0:3] = [10, 20, 30]\n",
        "print(num_list)"
      ],
      "metadata": {
        "id": "qm0poL2gTRv3",
        "colab": {
          "base_uri": "https://localhost:8080/"
        },
        "outputId": "a47ef3c6-99a6-43af-f199-549c413686fd"
      },
      "execution_count": 43,
      "outputs": [
        {
          "output_type": "stream",
          "name": "stdout",
          "text": [
            "2\n",
            "[2 3 4]\n",
            "[10 20 30  4  5]\n",
            "2\n",
            "[2, 3, 4]\n",
            "[10, 20, 30, 4, 5]\n"
          ]
        }
      ]
    },
    {
      "cell_type": "code",
      "source": [
        "# cannot add string to the numpy numeric array\n",
        "num_array = np.array([1, 2, 3, 4, 5])\n",
        "num_array[2] = 'three'"
      ],
      "metadata": {
        "id": "B0g_pXYfdBuT",
        "colab": {
          "base_uri": "https://localhost:8080/",
          "height": 176
        },
        "outputId": "fe5cd48d-364a-45eb-a01c-70a17a16ccab"
      },
      "execution_count": 44,
      "outputs": [
        {
          "output_type": "error",
          "ename": "ValueError",
          "evalue": "invalid literal for int() with base 10: 'three'",
          "traceback": [
            "\u001b[0;31m---------------------------------------------------------------------------\u001b[0m",
            "\u001b[0;31mValueError\u001b[0m                                Traceback (most recent call last)",
            "\u001b[0;32m<ipython-input-44-1678c22ddeab>\u001b[0m in \u001b[0;36m<cell line: 0>\u001b[0;34m()\u001b[0m\n\u001b[1;32m      1\u001b[0m \u001b[0;31m# cannot add string to the numpy numeric array\u001b[0m\u001b[0;34m\u001b[0m\u001b[0;34m\u001b[0m\u001b[0m\n\u001b[1;32m      2\u001b[0m \u001b[0mnum_array\u001b[0m \u001b[0;34m=\u001b[0m \u001b[0mnp\u001b[0m\u001b[0;34m.\u001b[0m\u001b[0marray\u001b[0m\u001b[0;34m(\u001b[0m\u001b[0;34m[\u001b[0m\u001b[0;36m1\u001b[0m\u001b[0;34m,\u001b[0m \u001b[0;36m2\u001b[0m\u001b[0;34m,\u001b[0m \u001b[0;36m3\u001b[0m\u001b[0;34m,\u001b[0m \u001b[0;36m4\u001b[0m\u001b[0;34m,\u001b[0m \u001b[0;36m5\u001b[0m\u001b[0;34m]\u001b[0m\u001b[0;34m)\u001b[0m\u001b[0;34m\u001b[0m\u001b[0;34m\u001b[0m\u001b[0m\n\u001b[0;32m----> 3\u001b[0;31m \u001b[0mnum_array\u001b[0m\u001b[0;34m[\u001b[0m\u001b[0;36m2\u001b[0m\u001b[0;34m]\u001b[0m \u001b[0;34m=\u001b[0m \u001b[0;34m'three'\u001b[0m\u001b[0;34m\u001b[0m\u001b[0;34m\u001b[0m\u001b[0m\n\u001b[0m",
            "\u001b[0;31mValueError\u001b[0m: invalid literal for int() with base 10: 'three'"
          ]
        }
      ]
    },
    {
      "cell_type": "code",
      "source": [
        "num_list = [1, 2, 3, 4, 5]\n",
        "num_list[2] = 'three'\n",
        "print(num_list)"
      ],
      "metadata": {
        "id": "ykzVoLiRdH6Y",
        "colab": {
          "base_uri": "https://localhost:8080/"
        },
        "outputId": "641ca340-4bd5-4f40-8df3-f94b21f09c33"
      },
      "execution_count": 45,
      "outputs": [
        {
          "output_type": "stream",
          "name": "stdout",
          "text": [
            "[1, 2, 'three', 4, 5]\n"
          ]
        }
      ]
    }
  ]
}