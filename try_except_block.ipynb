{
  "nbformat": 4,
  "nbformat_minor": 0,
  "metadata": {
    "colab": {
      "provenance": [],
      "authorship_tag": "ABX9TyMKG9/urV+8JVrkZypcpzZN",
      "include_colab_link": true
    },
    "kernelspec": {
      "name": "python3",
      "display_name": "Python 3"
    },
    "language_info": {
      "name": "python"
    }
  },
  "cells": [
    {
      "cell_type": "markdown",
      "metadata": {
        "id": "view-in-github",
        "colab_type": "text"
      },
      "source": [
        "<a href=\"https://colab.research.google.com/github/Haris-09/Python-Programming/blob/main/try_except_block.ipynb\" target=\"_parent\"><img src=\"https://colab.research.google.com/assets/colab-badge.svg\" alt=\"Open In Colab\"/></a>"
      ]
    },
    {
      "cell_type": "code",
      "execution_count": 1,
      "metadata": {
        "colab": {
          "base_uri": "https://localhost:8080/"
        },
        "id": "7u4Ps2PuuHRv",
        "outputId": "e7a083d5-5b8d-4614-bf7d-1c36ecab670c"
      },
      "outputs": [
        {
          "output_type": "stream",
          "name": "stdout",
          "text": [
            "Enter the number: 0\n",
            "Division by 0 is not possible\n"
          ]
        }
      ],
      "source": [
        "try:\n",
        "  var1 = int(input(\"Enter the number: \"))\n",
        "  var2 = 100\n",
        "  ans = var2/var1\n",
        "  print(ans)\n",
        "\n",
        "except ZeroDivisionError:\n",
        "  print(\"Division by 0 is not possible\")"
      ]
    },
    {
      "cell_type": "code",
      "source": [
        "try:\n",
        "  var1 = input(\"Enter the number: \")\n",
        "  var2 = 100\n",
        "  ans = var2/var1\n",
        "  print(ans)\n",
        "\n",
        "except Exception as e:\n",
        "  print(e)"
      ],
      "metadata": {
        "colab": {
          "base_uri": "https://localhost:8080/"
        },
        "id": "LpZwMwjOvCWz",
        "outputId": "8c4786b2-9c97-4df3-d533-ff9b67a80534"
      },
      "execution_count": 4,
      "outputs": [
        {
          "output_type": "stream",
          "name": "stdout",
          "text": [
            "Enter the number: 45\n",
            "unsupported operand type(s) for /: 'int' and 'str'\n"
          ]
        }
      ]
    },
    {
      "cell_type": "code",
      "source": [
        "try:\n",
        "  number = int(input(\"Enter a number: \"))\n",
        "  v1 = 10/number\n",
        "\n",
        "except ValueError:\n",
        "  print(\"Invalid input! Please enter a valid number.\")\n",
        "\n",
        "else:\n",
        "  print(\"else block\")\n",
        "  print(v1)"
      ],
      "metadata": {
        "colab": {
          "base_uri": "https://localhost:8080/"
        },
        "id": "cMHJeM61wPsX",
        "outputId": "c1e57b5c-1b82-43fa-e77e-f0c9fc3e49b4"
      },
      "execution_count": 11,
      "outputs": [
        {
          "output_type": "stream",
          "name": "stdout",
          "text": [
            "Enter a number: 2\n",
            "else block\n",
            "5.0\n"
          ]
        }
      ]
    },
    {
      "cell_type": "code",
      "source": [
        "# Objective:\n",
        "# Write a Python function 'divide_numbers()' that takes two numbers as input and returns their division.\n",
        "# Use exception handling to manage the following scenarios:\n",
        "# ~ Division by zero should raise a 'ZeroDivisionError' and return an appropriate message.\n",
        "# ~ Non-numeric inputs should raise a 'ValueError' and return an appropriate.\n",
        "def divide_numbers(x,y):\n",
        "  return x/y\n",
        "\n",
        "try:\n",
        "  val1 = int(input(\"Enter first number: \"))\n",
        "  val2 = int(input(\"Enter second number: \"))\n",
        "  divide_numbers(val1, val2)\n",
        "\n",
        "except Exception as e:\n",
        "  print(e)"
      ],
      "metadata": {
        "colab": {
          "base_uri": "https://localhost:8080/"
        },
        "id": "tTOufs4gw6O6",
        "outputId": "365e06ed-e5b2-4386-8904-15b23d532b55"
      },
      "execution_count": 12,
      "outputs": [
        {
          "name": "stdout",
          "output_type": "stream",
          "text": [
            "Enter first number: 2\n",
            "Enter second number: 4\n"
          ]
        }
      ]
    },
    {
      "cell_type": "code",
      "source": [
        "# Objective:\n",
        "# Create a function 'process_input()' that takes a string input form the user and attempts to convert it to an integer. Handle the following exception:\n",
        "# ~ 'ValueError' if the input cannot be converted to an integer.\n",
        "# ~ 'KeybaordInterrupt' if the user interrupts the input (e.g., by pressing Ctrl+C).\n",
        "# The function should return and appropriate message for each exception\n",
        "def process_input(str):\n",
        "  return int(str)\n",
        "\n",
        "try:\n",
        "  str = input(\"Enter the number\")\n",
        "  num = process_input(str)\n",
        "\n",
        "except ValueError:\n",
        "  print(\"Invalid input! Please enter a valid number.\")\n",
        "\n",
        "except KeyboardInterrupt:\n",
        "  print(\"User interrupted the input.\")\n",
        "\n",
        "else:\n",
        "  print(\"Entered number is: \",num)"
      ],
      "metadata": {
        "colab": {
          "base_uri": "https://localhost:8080/"
        },
        "id": "FEIwj0Tfy7KT",
        "outputId": "a62570db-3f32-4ce7-9e09-868ed1f2da97"
      },
      "execution_count": 13,
      "outputs": [
        {
          "output_type": "stream",
          "name": "stdout",
          "text": [
            "Enter the number4\n",
            "Entered number is:  4\n"
          ]
        }
      ]
    },
    {
      "cell_type": "code",
      "source": [
        "try:\n",
        "  val1 = input(\"Enter anything\")\n",
        "  if val1=='K':\n",
        "    raise KeyboardInterrupt(\"You cannot enter K\")\n",
        "\n",
        "except KeyboardInterrupt as e:\n",
        "  print(e)"
      ],
      "metadata": {
        "colab": {
          "base_uri": "https://localhost:8080/"
        },
        "id": "TrwArxRG5M31",
        "outputId": "c1ed6520-23d9-4e1a-adb6-ae1aa6f8af04"
      },
      "execution_count": 14,
      "outputs": [
        {
          "name": "stdout",
          "output_type": "stream",
          "text": [
            "Enter anythingk\n"
          ]
        }
      ]
    },
    {
      "cell_type": "code",
      "source": [],
      "metadata": {
        "id": "m74QdmN-5nl2"
      },
      "execution_count": null,
      "outputs": []
    }
  ]
}