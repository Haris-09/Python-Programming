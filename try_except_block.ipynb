{
  "nbformat": 4,
  "nbformat_minor": 0,
  "metadata": {
    "colab": {
      "provenance": [],
      "authorship_tag": "ABX9TyN9KiknAzGrKnm1huV5gopd",
      "include_colab_link": true
    },
    "kernelspec": {
      "name": "python3",
      "display_name": "Python 3"
    },
    "language_info": {
      "name": "python"
    }
  },
  "cells": [
    {
      "cell_type": "markdown",
      "metadata": {
        "id": "view-in-github",
        "colab_type": "text"
      },
      "source": [
        "<a href=\"https://colab.research.google.com/github/Haris-09/Python-Programming/blob/main/try_except_block.ipynb\" target=\"_parent\"><img src=\"https://colab.research.google.com/assets/colab-badge.svg\" alt=\"Open In Colab\"/></a>"
      ]
    },
    {
      "cell_type": "code",
      "execution_count": 1,
      "metadata": {
        "colab": {
          "base_uri": "https://localhost:8080/"
        },
        "id": "7u4Ps2PuuHRv",
        "outputId": "e7a083d5-5b8d-4614-bf7d-1c36ecab670c"
      },
      "outputs": [
        {
          "output_type": "stream",
          "name": "stdout",
          "text": [
            "Enter the number: 0\n",
            "Division by 0 is not possible\n"
          ]
        }
      ],
      "source": [
        "try:\n",
        "  var1 = int(input(\"Enter the number: \"))\n",
        "  var2 = 100\n",
        "  ans = var2/var1\n",
        "  print(ans)\n",
        "\n",
        "except ZeroDivisionError:\n",
        "  print(\"Division by 0 is not possible\")"
      ]
    },
    {
      "cell_type": "code",
      "source": [
        "try:\n",
        "  var1 = input(\"Enter the number: \")\n",
        "  var2 = 100\n",
        "  ans = var2/var1\n",
        "  print(ans)\n",
        "\n",
        "except Exception as e:\n",
        "  print(e)"
      ],
      "metadata": {
        "colab": {
          "base_uri": "https://localhost:8080/"
        },
        "id": "LpZwMwjOvCWz",
        "outputId": "8c4786b2-9c97-4df3-d533-ff9b67a80534"
      },
      "execution_count": 4,
      "outputs": [
        {
          "output_type": "stream",
          "name": "stdout",
          "text": [
            "Enter the number: 45\n",
            "unsupported operand type(s) for /: 'int' and 'str'\n"
          ]
        }
      ]
    },
    {
      "cell_type": "code",
      "source": [
        "try:\n",
        "  number = int(input(\"Enter a number: \"))\n",
        "  v1 = 10/number\n",
        "\n",
        "except ValueError:\n",
        "  print(\"Invalid input! Please enter a valid number.\")\n",
        "\n",
        "else:\n",
        "  print(\"else block\")\n",
        "  print(v1)"
      ],
      "metadata": {
        "colab": {
          "base_uri": "https://localhost:8080/"
        },
        "id": "cMHJeM61wPsX",
        "outputId": "c1e57b5c-1b82-43fa-e77e-f0c9fc3e49b4"
      },
      "execution_count": 11,
      "outputs": [
        {
          "output_type": "stream",
          "name": "stdout",
          "text": [
            "Enter a number: 2\n",
            "else block\n",
            "5.0\n"
          ]
        }
      ]
    },
    {
      "cell_type": "code",
      "source": [
        "# Objective:\n",
        "# Write a Python function 'divide_numbers()' that takes two numbers as input and returns their division.\n",
        "# Use exception handling to manage the following scenarios:\n",
        "# ~ Division by zero should raise a 'ZeroDivisionError' and return an appropriate message.\n",
        "# ~ Non-numeric inputs should raise a 'ValueError' and return an appropriate.\n",
        "def divide_numbers(x,y):\n",
        "  return x/y\n",
        "\n",
        "try:\n",
        "  val1 = int(input(\"Enter first number: \"))\n",
        "  val2 = int(input(\"Enter second number: \"))\n",
        "  divide_numbers(val1, val2)\n",
        "\n",
        "except Exception as e:\n",
        "  print(e)"
      ],
      "metadata": {
        "colab": {
          "base_uri": "https://localhost:8080/"
        },
        "id": "tTOufs4gw6O6",
        "outputId": "365e06ed-e5b2-4386-8904-15b23d532b55"
      },
      "execution_count": 12,
      "outputs": [
        {
          "name": "stdout",
          "output_type": "stream",
          "text": [
            "Enter first number: 2\n",
            "Enter second number: 4\n"
          ]
        }
      ]
    },
    {
      "cell_type": "code",
      "source": [
        "# Objective:\n",
        "# Create a function 'process_input()' that takes a string input form the user and attempts to convert it to an integer. Handle the following exception:\n",
        "# ~ 'ValueError' if the input cannot be converted to an integer.\n",
        "# ~ 'KeybaordInterrupt' if the user interrupts the input (e.g., by pressing Ctrl+C).\n",
        "# The function should return and appropriate message for each exception\n",
        "def process_input(str):\n",
        "  return int(str)\n",
        "\n",
        "try:\n",
        "  str = input(\"Enter the number: \")\n",
        "  num = process_input(str)\n",
        "\n",
        "except ValueError:\n",
        "  print(\"Invalid input! Please enter a valid number.\")\n",
        "\n",
        "except KeyboardInterrupt:\n",
        "  print(\"User interrupted the input.\")\n",
        "\n",
        "else:\n",
        "  print(\"Entered number is: \",num)"
      ],
      "metadata": {
        "colab": {
          "base_uri": "https://localhost:8080/"
        },
        "id": "FEIwj0Tfy7KT",
        "outputId": "346dd54d-0ff5-43db-8b5e-6ac5d91bbdf1"
      },
      "execution_count": 18,
      "outputs": [
        {
          "output_type": "stream",
          "name": "stdout",
          "text": [
            "Enter the number: p\n",
            "Invalid input! Please enter a valid number.\n"
          ]
        }
      ]
    },
    {
      "cell_type": "code",
      "source": [
        "try:\n",
        "  val1 = input(\"Enter anything: \")\n",
        "  if val1=='K':\n",
        "    raise KeyboardInterrupt(\"You cannot enter K\")\n",
        "\n",
        "except KeyboardInterrupt as e:\n",
        "  print(e)"
      ],
      "metadata": {
        "colab": {
          "base_uri": "https://localhost:8080/"
        },
        "id": "TrwArxRG5M31",
        "outputId": "a5d6faac-8f4b-427b-9ea1-4a3ef0027efa"
      },
      "execution_count": 20,
      "outputs": [
        {
          "output_type": "stream",
          "name": "stdout",
          "text": [
            "Enter anything: K\n",
            "You cannot enter K\n"
          ]
        }
      ]
    },
    {
      "cell_type": "code",
      "source": [
        "try:\n",
        "  file1 = open(\"input1234.txt\",\"r\")\n",
        "  content1 = file1.read()\n",
        "  print(content1)\n",
        "\n",
        "except Exception as e:\n",
        "  print(e)"
      ],
      "metadata": {
        "colab": {
          "base_uri": "https://localhost:8080/"
        },
        "id": "m74QdmN-5nl2",
        "outputId": "dfcf5269-6a4d-436f-868c-6773b550d81c"
      },
      "execution_count": 15,
      "outputs": [
        {
          "output_type": "stream",
          "name": "stdout",
          "text": [
            "[Errno 2] No such file or directory: 'input1234.txt'\n"
          ]
        }
      ]
    },
    {
      "cell_type": "code",
      "source": [
        "class MyCustomException(Exception):\n",
        "  pass\n",
        "\n",
        "try:\n",
        "  val1 = input(\"Enter anything: \")\n",
        "  if val1=='K':\n",
        "    raise MyCustomException(\"You cannot enter K\")\n",
        "\n",
        "except MyCustomException as e:\n",
        "  print(e)"
      ],
      "metadata": {
        "colab": {
          "base_uri": "https://localhost:8080/"
        },
        "id": "Sa6qfQG5Gk3z",
        "outputId": "4d3109c2-8f10-47ef-8ad5-e4b1cba976d8"
      },
      "execution_count": 21,
      "outputs": [
        {
          "output_type": "stream",
          "name": "stdout",
          "text": [
            "Enter anything: K\n",
            "You cannot enter K\n"
          ]
        }
      ]
    },
    {
      "cell_type": "code",
      "source": [],
      "metadata": {
        "id": "QtICht1zJ1c3"
      },
      "execution_count": null,
      "outputs": []
    }
  ]
}