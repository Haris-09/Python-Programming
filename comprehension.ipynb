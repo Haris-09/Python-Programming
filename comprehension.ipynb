{
  "nbformat": 4,
  "nbformat_minor": 0,
  "metadata": {
    "colab": {
      "provenance": [],
      "authorship_tag": "ABX9TyNU6ZQbNEpLjXV2zTHs7l+z",
      "include_colab_link": true
    },
    "kernelspec": {
      "name": "python3",
      "display_name": "Python 3"
    },
    "language_info": {
      "name": "python"
    }
  },
  "cells": [
    {
      "cell_type": "markdown",
      "metadata": {
        "id": "view-in-github",
        "colab_type": "text"
      },
      "source": [
        "<a href=\"https://colab.research.google.com/github/Haris-09/Python-Programming/blob/main/comprehension.ipynb\" target=\"_parent\"><img src=\"https://colab.research.google.com/assets/colab-badge.svg\" alt=\"Open In Colab\"/></a>"
      ]
    },
    {
      "cell_type": "code",
      "execution_count": 1,
      "metadata": {
        "colab": {
          "base_uri": "https://localhost:8080/"
        },
        "id": "08OhwleLQXdE",
        "outputId": "02d62208-2414-4745-fadd-3cbed00fdaa7"
      },
      "outputs": [
        {
          "output_type": "stream",
          "name": "stdout",
          "text": [
            "{0: 0, 1: 1, 2: 4, 3: 9, 4: 16, 5: 25, 6: 36, 7: 49, 8: 64, 9: 81}\n"
          ]
        }
      ],
      "source": [
        "dict1 = { i:i*i for i in range(10)}\n",
        "print(dict1)"
      ]
    },
    {
      "cell_type": "code",
      "source": [
        "l1 = [ i for i in range(10)]\n",
        "l2 = ( i for i in range(10))\n",
        "print(l1)\n",
        "print(l2)"
      ],
      "metadata": {
        "colab": {
          "base_uri": "https://localhost:8080/"
        },
        "id": "iax8Egg-Qiu9",
        "outputId": "4d254c04-4c0e-4f39-b1b4-4a2961b2703a"
      },
      "execution_count": 2,
      "outputs": [
        {
          "output_type": "stream",
          "name": "stdout",
          "text": [
            "[0, 1, 2, 3, 4, 5, 6, 7, 8, 9]\n",
            "<generator object <genexpr> at 0x7a0588d676b0>\n"
          ]
        }
      ]
    },
    {
      "cell_type": "code",
      "source": [
        "import time\n",
        "starting_time = time.time()\n",
        "l1 = []\n",
        "for i in range(100000):\n",
        "  l1.append(i)\n",
        "ending_time = time.time()\n",
        "print(ending_time-starting_time)\n",
        "\n",
        "starting_time = time.time()\n",
        "l2 = [ i for i in range(100000)]\n",
        "ending_time = time.time()\n",
        "print(ending_time-starting_time)"
      ],
      "metadata": {
        "colab": {
          "base_uri": "https://localhost:8080/"
        },
        "id": "QNxts3hCRBs_",
        "outputId": "e1a0c195-28a3-4bcc-d45c-7049fa32690f"
      },
      "execution_count": 4,
      "outputs": [
        {
          "output_type": "stream",
          "name": "stdout",
          "text": [
            "0.02116250991821289\n",
            "0.006859779357910156\n"
          ]
        }
      ]
    },
    {
      "cell_type": "code",
      "source": [
        "# this will exaust the memory hence generator expression is required\n",
        "l4 = [i for i in range(10**1000000000)]\n",
        "print(l4)"
      ],
      "metadata": {
        "colab": {
          "base_uri": "https://localhost:8080/",
          "height": 159
        },
        "id": "pDfA1hN1So6I",
        "outputId": "02dad38f-c67d-4fe3-9436-f262ac57984f"
      },
      "execution_count": 3,
      "outputs": [
        {
          "output_type": "error",
          "ename": "KeyboardInterrupt",
          "evalue": "",
          "traceback": [
            "\u001b[0;31m---------------------------------------------------------------------------\u001b[0m",
            "\u001b[0;31mKeyboardInterrupt\u001b[0m                         Traceback (most recent call last)",
            "\u001b[0;32m<ipython-input-3-44400ef7444c>\u001b[0m in \u001b[0;36m<cell line: 0>\u001b[0;34m()\u001b[0m\n\u001b[0;32m----> 1\u001b[0;31m \u001b[0ml4\u001b[0m \u001b[0;34m=\u001b[0m \u001b[0;34m[\u001b[0m\u001b[0mi\u001b[0m \u001b[0;32mfor\u001b[0m \u001b[0mi\u001b[0m \u001b[0;32min\u001b[0m \u001b[0mrange\u001b[0m\u001b[0;34m(\u001b[0m\u001b[0;36m10\u001b[0m\u001b[0;34m**\u001b[0m\u001b[0;36m1000000000\u001b[0m\u001b[0;34m)\u001b[0m\u001b[0;34m]\u001b[0m\u001b[0;34m\u001b[0m\u001b[0;34m\u001b[0m\u001b[0m\n\u001b[0m\u001b[1;32m      2\u001b[0m \u001b[0mprint\u001b[0m\u001b[0;34m(\u001b[0m\u001b[0ml4\u001b[0m\u001b[0;34m)\u001b[0m\u001b[0;34m\u001b[0m\u001b[0;34m\u001b[0m\u001b[0m\n",
            "\u001b[0;31mKeyboardInterrupt\u001b[0m: "
          ]
        }
      ]
    },
    {
      "cell_type": "code",
      "source": [
        "# This will create the generator object\n",
        "l5 = (i for i in range(100000))\n",
        "print(l5)"
      ],
      "metadata": {
        "colab": {
          "base_uri": "https://localhost:8080/"
        },
        "id": "LbvxFzSdT-FB",
        "outputId": "1edb41e6-c239-47f0-c8bb-b9582e34a19b"
      },
      "execution_count": 5,
      "outputs": [
        {
          "output_type": "stream",
          "name": "stdout",
          "text": [
            "<generator object <genexpr> at 0x7ed251f065a0>\n"
          ]
        }
      ]
    },
    {
      "cell_type": "code",
      "source": [
        "l5 = (i for i in range(5))\n",
        "print(next(l5))\n",
        "print(next(l5))\n",
        "print(next(l5))"
      ],
      "metadata": {
        "colab": {
          "base_uri": "https://localhost:8080/"
        },
        "id": "ODVf4aQxVryI",
        "outputId": "71e01e36-ce53-4bfe-c81e-af20af6e1dd9"
      },
      "execution_count": 7,
      "outputs": [
        {
          "output_type": "stream",
          "name": "stdout",
          "text": [
            "0\n",
            "1\n",
            "2\n"
          ]
        }
      ]
    },
    {
      "cell_type": "code",
      "source": [
        "for i in l5:\n",
        "  print(i)\n",
        "\n",
        "print(\"After first loop\")\n",
        "for i in l5:\n",
        "  print(i)\n",
        "print(\"After second loop\")"
      ],
      "metadata": {
        "colab": {
          "base_uri": "https://localhost:8080/"
        },
        "id": "J8fzZwVRXS0M",
        "outputId": "bb708b1e-8c3f-4ef9-c239-16cd1fdfb36b"
      },
      "execution_count": 8,
      "outputs": [
        {
          "output_type": "stream",
          "name": "stdout",
          "text": [
            "3\n",
            "4\n",
            "After first loop\n",
            "After second loop\n"
          ]
        }
      ]
    },
    {
      "cell_type": "code",
      "source": [
        "import sys\n",
        "\n",
        "l7 = (i for i in range(5))\n",
        "l8 = [i for i in range(5)]\n",
        "\n",
        "print(sys.getsizeof(l8))\n",
        "print(sys.getsizeof(l7))"
      ],
      "metadata": {
        "colab": {
          "base_uri": "https://localhost:8080/"
        },
        "id": "O4AFyKj0X0Dv",
        "outputId": "2ab436c8-1b77-4d7a-b86c-e49c1653a5bc"
      },
      "execution_count": 13,
      "outputs": [
        {
          "output_type": "stream",
          "name": "stdout",
          "text": [
            "120\n",
            "200\n"
          ]
        }
      ]
    },
    {
      "cell_type": "code",
      "source": [
        "[2 * num for num in range(10)]"
      ],
      "metadata": {
        "colab": {
          "base_uri": "https://localhost:8080/"
        },
        "id": "VEMYQ1eWYw7t",
        "outputId": "bf6498ae-a321-4995-b1d7-badd3b06c163"
      },
      "execution_count": 10,
      "outputs": [
        {
          "output_type": "execute_result",
          "data": {
            "text/plain": [
              "[0, 2, 4, 6, 8, 10, 12, 14, 16, 18]"
            ]
          },
          "metadata": {},
          "execution_count": 10
        }
      ]
    },
    {
      "cell_type": "code",
      "source": [
        "(2 * num for num in range(10))"
      ],
      "metadata": {
        "colab": {
          "base_uri": "https://localhost:8080/"
        },
        "id": "CzAAwwPOZcJy",
        "outputId": "6616b4fc-65f6-4ac4-9424-813d262eb230"
      },
      "execution_count": 11,
      "outputs": [
        {
          "output_type": "execute_result",
          "data": {
            "text/plain": [
              "<generator object <genexpr> at 0x7ed251f06a80>"
            ]
          },
          "metadata": {},
          "execution_count": 11
        }
      ]
    },
    {
      "cell_type": "code",
      "source": [
        "result = (num for num in range(6))\n",
        "for num in result:\n",
        "  print(num)"
      ],
      "metadata": {
        "colab": {
          "base_uri": "https://localhost:8080/"
        },
        "id": "FrwOkYqfZp8U",
        "outputId": "4bf5612c-3dfe-4b5a-cda9-cb4e0fd5c4e2"
      },
      "execution_count": 14,
      "outputs": [
        {
          "output_type": "stream",
          "name": "stdout",
          "text": [
            "0\n",
            "1\n",
            "2\n",
            "3\n",
            "4\n",
            "5\n"
          ]
        }
      ]
    },
    {
      "cell_type": "code",
      "source": [
        "result = (num for num in range(6))\n",
        "print(next(result))\n",
        "print(next(result))\n",
        "print(next(result))\n",
        "print(next(result))\n",
        "print(next(result))"
      ],
      "metadata": {
        "colab": {
          "base_uri": "https://localhost:8080/"
        },
        "id": "6XUJOaAMacKN",
        "outputId": "6516776f-dd14-4df0-c7ba-b7a06658afd5"
      },
      "execution_count": 16,
      "outputs": [
        {
          "output_type": "stream",
          "name": "stdout",
          "text": [
            "0\n",
            "1\n",
            "2\n",
            "3\n",
            "4\n"
          ]
        }
      ]
    },
    {
      "cell_type": "code",
      "source": [
        "even_nums = (num for num in range(10) if num % 2 == 0)\n",
        "print(list(even_nums))"
      ],
      "metadata": {
        "colab": {
          "base_uri": "https://localhost:8080/"
        },
        "id": "87_GTTXka5cp",
        "outputId": "8370971b-bd51-4c5b-93fd-58fdda979c70"
      },
      "execution_count": 17,
      "outputs": [
        {
          "output_type": "stream",
          "name": "stdout",
          "text": [
            "[0, 2, 4, 6, 8]\n"
          ]
        }
      ]
    },
    {
      "cell_type": "code",
      "source": [
        "def generator_function(num):\n",
        "  for i in range(num):\n",
        "    yield i\n",
        "\n",
        "for i in generator_function(10):\n",
        "  print(i)"
      ],
      "metadata": {
        "colab": {
          "base_uri": "https://localhost:8080/"
        },
        "id": "PyJMgLredXTT",
        "outputId": "89b81d05-641e-44e0-d5b2-1de6f869e599"
      },
      "execution_count": 18,
      "outputs": [
        {
          "output_type": "stream",
          "name": "stdout",
          "text": [
            "0\n",
            "1\n",
            "2\n",
            "3\n",
            "4\n",
            "5\n",
            "6\n",
            "7\n",
            "8\n",
            "9\n"
          ]
        }
      ]
    },
    {
      "cell_type": "code",
      "source": [
        "def generator_function(n):\n",
        "  i=0\n",
        "  while i<n:\n",
        "    yield i\n",
        "    i+=1\n",
        "\n",
        "for i in generator_function(10):\n",
        "  print(i)"
      ],
      "metadata": {
        "colab": {
          "base_uri": "https://localhost:8080/"
        },
        "id": "XG8rd2MnefiZ",
        "outputId": "2020dc3a-c394-4d44-e9c5-df4e3a864844"
      },
      "execution_count": 19,
      "outputs": [
        {
          "output_type": "stream",
          "name": "stdout",
          "text": [
            "0\n",
            "1\n",
            "2\n",
            "3\n",
            "4\n",
            "5\n",
            "6\n",
            "7\n",
            "8\n",
            "9\n"
          ]
        }
      ]
    },
    {
      "cell_type": "code",
      "source": [],
      "metadata": {
        "id": "O_ze1dzMoaoL"
      },
      "execution_count": null,
      "outputs": []
    }
  ]
}