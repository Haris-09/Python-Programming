{
  "nbformat": 4,
  "nbformat_minor": 0,
  "metadata": {
    "colab": {
      "provenance": [],
      "authorship_tag": "ABX9TyMzLm/zQYOwEzAqhP6FE1Rv",
      "include_colab_link": true
    },
    "kernelspec": {
      "name": "python3",
      "display_name": "Python 3"
    },
    "language_info": {
      "name": "python"
    }
  },
  "cells": [
    {
      "cell_type": "markdown",
      "metadata": {
        "id": "view-in-github",
        "colab_type": "text"
      },
      "source": [
        "<a href=\"https://colab.research.google.com/github/Haris-09/Python-Programming/blob/main/APIs%2C_Databases%2C_Web_Scraping.ipynb\" target=\"_parent\"><img src=\"https://colab.research.google.com/assets/colab-badge.svg\" alt=\"Open In Colab\"/></a>"
      ]
    },
    {
      "cell_type": "markdown",
      "source": [
        "# APIs Requests"
      ],
      "metadata": {
        "id": "ftrP5cP6grvo"
      }
    },
    {
      "cell_type": "code",
      "execution_count": null,
      "metadata": {
        "id": "RxEO-6Ne_TTG"
      },
      "outputs": [],
      "source": [
        "from urllib.request import Request, urlopen\n",
        "import json\n",
        "import requests\n",
        "import pandas as pd"
      ]
    },
    {
      "cell_type": "code",
      "source": [
        "api = \"https://jsonplaceholder.typicode.com/posts/1\"\n",
        "req = Request(api, headers={'User-Agent': 'Mozilla/5.0'})\n",
        "\n",
        "with urlopen(req) as response:\n",
        "  data = response.read()\n",
        "  string = data.decode()\n",
        "  print(string)"
      ],
      "metadata": {
        "colab": {
          "base_uri": "https://localhost:8080/"
        },
        "id": "XwBesNN8_aHA",
        "outputId": "a9efbe3f-8047-4806-86bf-408fb45b2722"
      },
      "execution_count": null,
      "outputs": [
        {
          "output_type": "stream",
          "name": "stdout",
          "text": [
            "{\n",
            "  \"userId\": 1,\n",
            "  \"id\": 1,\n",
            "  \"title\": \"sunt aut facere repellat provident occaecati excepturi optio reprehenderit\",\n",
            "  \"body\": \"quia et suscipit\\nsuscipit recusandae consequuntur expedita et cum\\nreprehenderit molestiae ut ut quas totam\\nnostrum rerum est autem sunt rem eveniet architecto\"\n",
            "}\n"
          ]
        }
      ]
    },
    {
      "cell_type": "code",
      "source": [
        "url = \"https://restcountries.com/v3.1/name/pakistan\"\n",
        "req = Request(url, headers={'User-Agent': 'Mozilla/5.0'})\n",
        "\n",
        "with urlopen(req) as response:\n",
        "  data = json.loads(response.read().decode())\n",
        "\n",
        "country = data[0]\n",
        "print(\"Country:\", country[\"name\"][\"common\"])\n",
        "print(\"Capital:\", country[\"capital\"][0])\n",
        "print(\"Region:\", country[\"region\"])\n",
        "print(\"Population:\", country[\"population\"])"
      ],
      "metadata": {
        "colab": {
          "base_uri": "https://localhost:8080/"
        },
        "id": "R6AlxaUYCf1J",
        "outputId": "e913cc90-c601-4e1b-ea19-c09239137b3a"
      },
      "execution_count": null,
      "outputs": [
        {
          "output_type": "stream",
          "name": "stdout",
          "text": [
            "Country: Pakistan\n",
            "Capital: Islamabad\n",
            "Region: Asia\n",
            "Population: 220892331\n"
          ]
        }
      ]
    },
    {
      "cell_type": "code",
      "source": [
        "response = requests.get(\"https://api.open-meteo.com/v1/forecast?latitude=33.6844&longitude=73.0479&current_weather=true\")\n",
        "print(response.url)\n",
        "print(response.text)"
      ],
      "metadata": {
        "colab": {
          "base_uri": "https://localhost:8080/"
        },
        "id": "IUC8DRUyCr_y",
        "outputId": "c072520a-e684-43cf-979c-1dfeb8516faa"
      },
      "execution_count": null,
      "outputs": [
        {
          "output_type": "stream",
          "name": "stdout",
          "text": [
            "https://api.open-meteo.com/v1/forecast?latitude=33.6844&longitude=73.0479&current_weather=true\n",
            "{\"latitude\":33.625,\"longitude\":73.0,\"generationtime_ms\":0.05614757537841797,\"utc_offset_seconds\":0,\"timezone\":\"GMT\",\"timezone_abbreviation\":\"GMT\",\"elevation\":527.0,\"current_weather_units\":{\"time\":\"iso8601\",\"interval\":\"seconds\",\"temperature\":\"°C\",\"windspeed\":\"km/h\",\"winddirection\":\"°\",\"is_day\":\"\",\"weathercode\":\"wmo code\"},\"current_weather\":{\"time\":\"2025-07-10T14:15\",\"interval\":900,\"temperature\":28.5,\"windspeed\":7.9,\"winddirection\":133,\"is_day\":1,\"weathercode\":1}}\n"
          ]
        }
      ]
    },
    {
      "cell_type": "code",
      "source": [
        "# Create dictionary for query parameters\n",
        "query_params = {\n",
        "    'latitude': 33.6844,\n",
        "    'longitude': 73.0479,\n",
        "    'current_weather': True\n",
        "}\n",
        "\n",
        "# Send the GET request using params\n",
        "response = requests.get('https://api.open-meteo.com/v1/forecast', params=query_params)\n",
        "\n",
        "# Print the full URL (with query parameters)\n",
        "print(response.url)\n",
        "print(response.text)"
      ],
      "metadata": {
        "colab": {
          "base_uri": "https://localhost:8080/"
        },
        "id": "WfN7g7l2IbA4",
        "outputId": "8c937c77-a34e-4978-e739-090322e23865"
      },
      "execution_count": null,
      "outputs": [
        {
          "output_type": "stream",
          "name": "stdout",
          "text": [
            "https://api.open-meteo.com/v1/forecast?latitude=33.6844&longitude=73.0479&current_weather=True\n",
            "{\"latitude\":33.625,\"longitude\":73.0,\"generationtime_ms\":0.039696693420410156,\"utc_offset_seconds\":0,\"timezone\":\"GMT\",\"timezone_abbreviation\":\"GMT\",\"elevation\":527.0,\"current_weather_units\":{\"time\":\"iso8601\",\"interval\":\"seconds\",\"temperature\":\"°C\",\"windspeed\":\"km/h\",\"winddirection\":\"°\",\"is_day\":\"\",\"weathercode\":\"wmo code\"},\"current_weather\":{\"time\":\"2025-07-10T14:15\",\"interval\":900,\"temperature\":28.5,\"windspeed\":7.9,\"winddirection\":133,\"is_day\":1,\"weathercode\":1}}\n"
          ]
        }
      ]
    },
    {
      "cell_type": "code",
      "source": [
        "# GET = Retrieve a resource\n",
        "response = requests.get(\"https://jsonplaceholder.typicode.com/posts/1\") # POST = Create a resource\n",
        "print(response.text)\n",
        "print('-----------------------------------------------------------')\n",
        "response = requests.post(\"https://jsonplaceholder.typicode.com/posts/1\", data={\"key\": \"value\"}) # PUT = Update an existing resource\n",
        "print(response.text)\n",
        "print('-----------------------------------------------------------')\n",
        "response = requests.put(\"https://jsonplaceholder.typicode.com/posts/1\", data={\"key\": \"value\"}) # DELETE = Remove a resource\n",
        "print(response.text)\n",
        "print('-----------------------------------------------------------')\n",
        "response = requests.delete(\"https://jsonplaceholder.typicode.com/posts/1\")\n",
        "print(response.text)"
      ],
      "metadata": {
        "colab": {
          "base_uri": "https://localhost:8080/"
        },
        "id": "YhWc0stTKMwD",
        "outputId": "24321d1e-9075-41a7-d520-b8439ac9b040"
      },
      "execution_count": null,
      "outputs": [
        {
          "output_type": "stream",
          "name": "stdout",
          "text": [
            "{\n",
            "  \"userId\": 1,\n",
            "  \"id\": 1,\n",
            "  \"title\": \"sunt aut facere repellat provident occaecati excepturi optio reprehenderit\",\n",
            "  \"body\": \"quia et suscipit\\nsuscipit recusandae consequuntur expedita et cum\\nreprehenderit molestiae ut ut quas totam\\nnostrum rerum est autem sunt rem eveniet architecto\"\n",
            "}\n",
            "-----------------------------------------------------------\n",
            "{}\n",
            "-----------------------------------------------------------\n",
            "{\n",
            "  \"key\": \"value\",\n",
            "  \"id\": 1\n",
            "}\n",
            "-----------------------------------------------------------\n",
            "{}\n"
          ]
        }
      ]
    },
    {
      "cell_type": "code",
      "source": [
        "# Adding headers to a request\n",
        "response = requests.get(\n",
        "'https://jsonplaceholder.typicode.com/posts/1', headers={'accept':'application/json'}\n",
        ")\n",
        "\n",
        "# Reading response headers\n",
        "response.headers['content-type']\n",
        "\n",
        "response.headers.get('content-type')"
      ],
      "metadata": {
        "colab": {
          "base_uri": "https://localhost:8080/",
          "height": 35
        },
        "id": "6HYWRJGvMCvx",
        "outputId": "eff9f59e-6c0b-4c3e-e075-184c9be059be"
      },
      "execution_count": null,
      "outputs": [
        {
          "output_type": "execute_result",
          "data": {
            "text/plain": [
              "'application/json; charset=utf-8'"
            ],
            "application/vnd.google.colaboratory.intrinsic+json": {
              "type": "string"
            }
          },
          "metadata": {},
          "execution_count": 7
        }
      ]
    },
    {
      "cell_type": "code",
      "source": [
        "response.status_code == 200"
      ],
      "metadata": {
        "colab": {
          "base_uri": "https://localhost:8080/"
        },
        "id": "fsORsFbVZ4y_",
        "outputId": "066cee64-886a-4b0a-baa6-4ffd039a22d8"
      },
      "execution_count": null,
      "outputs": [
        {
          "output_type": "execute_result",
          "data": {
            "text/plain": [
              "True"
            ]
          },
          "metadata": {},
          "execution_count": 8
        }
      ]
    },
    {
      "cell_type": "code",
      "source": [
        "response = requests.get('https://jsonplaceholder.typicode.com/posts/134542345')\n",
        "response.status_code == requests.codes.not_found"
      ],
      "metadata": {
        "colab": {
          "base_uri": "https://localhost:8080/"
        },
        "id": "R5JlgcS7aZTT",
        "outputId": "b5fe0185-cdd4-48c8-bc00-94a9ec1418fd"
      },
      "execution_count": null,
      "outputs": [
        {
          "output_type": "execute_result",
          "data": {
            "text/plain": [
              "True"
            ]
          },
          "metadata": {},
          "execution_count": 9
        }
      ]
    },
    {
      "cell_type": "markdown",
      "source": [
        "# Connect to your Databases"
      ],
      "metadata": {
        "id": "aAQ8XpfPboPv"
      }
    },
    {
      "cell_type": "code",
      "source": [
        "from sqlalchemy import create_engine, inspect\n",
        "\n",
        "# Create a SQLite engine and connect to the database\n",
        "# engine = create_engine('sqlite:///data/chinook.db')\n",
        "engine = create_engine('sqlite:///census_nyc.sqlite')\n",
        "# Establish the connection\n",
        "connection = engine.connect()\n",
        "# Create an inspector object\n",
        "inspector = inspect(engine)\n",
        "# Get and print the list of table names\n",
        "table_names = inspector.get_table_names()\n",
        "print(\"Tables in the database:\", table_names)"
      ],
      "metadata": {
        "colab": {
          "base_uri": "https://localhost:8080/"
        },
        "id": "p0pvxkX6avJJ",
        "outputId": "db0b9dcb-a0dd-4a02-c3fa-c5742fd16c53"
      },
      "execution_count": null,
      "outputs": [
        {
          "output_type": "stream",
          "name": "stdout",
          "text": [
            "Tables in the database: []\n"
          ]
        }
      ]
    },
    {
      "cell_type": "code",
      "source": [
        "from sqlalchemy import create_engine, MetaData, Table, Column, Integer, String, inspect\n",
        "\n",
        "engine = create_engine('sqlite:///:memory:')\n",
        "\n",
        "metadata = MetaData()\n",
        "\n",
        "students = Table(\n",
        "    'students', metadata,\n",
        "    Column('id', Integer, primary_key=True),\n",
        "    Column('name', String),\n",
        "    Column('age', Integer)\n",
        ")\n",
        "\n",
        "metadata.create_all(engine)\n",
        "\n",
        "inspector = inspect(engine)\n",
        "print(\"Tables in DB:\", inspector.get_table_names())\n",
        "\n",
        "students_reflected = Table('students', MetaData(), autoload_with=engine)\n",
        "print(repr(students_reflected))"
      ],
      "metadata": {
        "colab": {
          "base_uri": "https://localhost:8080/"
        },
        "id": "zYjjOieKc9-b",
        "outputId": "21aba578-9c7a-40b3-96af-c111af77f8c1"
      },
      "execution_count": null,
      "outputs": [
        {
          "output_type": "stream",
          "name": "stdout",
          "text": [
            "Tables in DB: ['students']\n",
            "Table('students', MetaData(), Column('id', INTEGER(), table=<students>, primary_key=True, nullable=False), Column('name', VARCHAR(), table=<students>), Column('age', INTEGER(), table=<students>), schema=None)\n"
          ]
        }
      ]
    },
    {
      "cell_type": "code",
      "source": [
        "from sqlalchemy import create_engine, MetaData, Table, Column, Integer, String, text\n",
        "\n",
        "engine = create_engine('sqlite:///:memory:')\n",
        "metadata = MetaData()\n",
        "students = Table(\n",
        "    'students', metadata,\n",
        "    Column('id', Integer, primary_key=True),\n",
        "    Column('name', String),\n",
        "    Column('age', Integer)\n",
        ")\n",
        "metadata.create_all(engine)\n",
        "with engine.connect() as connection:\n",
        "    connection.execute(students.insert(), [\n",
        "        {'name': 'Alice', 'age': 22},\n",
        "        {'name': 'Bob', 'age': 24},\n",
        "        {'name': 'Charlie', 'age': 23}\n",
        "    ])\n",
        "\n",
        "    stmt = text('SELECT * FROM students')\n",
        "    result_proxy = connection.execute(stmt)\n",
        "    results = result_proxy.fetchall()\n",
        "\n",
        "for row in results:\n",
        "  print(row)"
      ],
      "metadata": {
        "colab": {
          "base_uri": "https://localhost:8080/"
        },
        "id": "RnWE65wueFEq",
        "outputId": "3f6641fc-8dd4-4d25-af2c-5c572a3434d1"
      },
      "execution_count": null,
      "outputs": [
        {
          "output_type": "stream",
          "name": "stdout",
          "text": [
            "(1, 'Alice', 22)\n",
            "(2, 'Bob', 24)\n",
            "(3, 'Charlie', 23)\n"
          ]
        }
      ]
    },
    {
      "cell_type": "code",
      "source": [],
      "metadata": {
        "id": "QPATsN4Co3kU"
      },
      "execution_count": null,
      "outputs": []
    }
  ]
}